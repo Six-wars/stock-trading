{
 "cells": [
  {
   "cell_type": "code",
   "execution_count": 1,
   "metadata": {},
   "outputs": [
    {
     "name": "stderr",
     "output_type": "stream",
     "text": [
      "Using TensorFlow backend.\n"
     ]
    }
   ],
   "source": [
    "import os\n",
    "\n",
    "import pandas as pd\n",
    "from sklearn.externals import joblib\n",
    "\n",
    "from keras.models import load_model"
   ]
  },
  {
   "cell_type": "code",
   "execution_count": 2,
   "metadata": {},
   "outputs": [],
   "source": [
    "import numpy as np\n",
    "\n",
    "from sklearn.metrics import accuracy_score"
   ]
  },
  {
   "cell_type": "code",
   "execution_count": 3,
   "metadata": {},
   "outputs": [],
   "source": [
    "old_csv = [x for x in os.listdir(\"data\") if x.endswith('edited.csv')]"
   ]
  },
  {
   "cell_type": "code",
   "execution_count": 4,
   "metadata": {},
   "outputs": [
    {
     "data": {
      "text/plain": [
       "['EOD-MSFT-edited.csv',\n",
       " 'BTC-USD-edited.csv',\n",
       " 'GOOG-edited.csv',\n",
       " 'EOD-DIS-edited.csv',\n",
       " 'EOD-MMM-edited.csv',\n",
       " 'NFLX-edited.csv',\n",
       " 'AMZN-edited.csv',\n",
       " 'AAPL-edited.csv',\n",
       " 'EOD-V-edited.csv',\n",
       " 'TSLA-edited.csv',\n",
       " 'FB-edited.csv']"
      ]
     },
     "execution_count": 4,
     "metadata": {},
     "output_type": "execute_result"
    }
   ],
   "source": [
    "old_csv"
   ]
  },
  {
   "cell_type": "code",
   "execution_count": 5,
   "metadata": {},
   "outputs": [
    {
     "name": "stdout",
     "output_type": "stream",
     "text": [
      "data/EOD-MSFT-edited.csv\n",
      "data/BTC-USD-edited.csv\n",
      "data/GOOG-edited.csv\n",
      "data/EOD-DIS-edited.csv\n",
      "data/EOD-MMM-edited.csv\n",
      "data/NFLX-edited.csv\n",
      "data/AMZN-edited.csv\n",
      "data/AAPL-edited.csv\n",
      "data/EOD-V-edited.csv\n",
      "data/TSLA-edited.csv\n",
      "data/FB-edited.csv\n"
     ]
    }
   ],
   "source": [
    "old_csv_filenames = []\n",
    "\n",
    "for filename in old_csv:\n",
    "    print('data/%s'%filename)\n",
    "    old_csv_filenames.append('data/%s'%filename)"
   ]
  },
  {
   "cell_type": "code",
   "execution_count": 6,
   "metadata": {},
   "outputs": [],
   "source": [
    "clf = joblib.load('data/bitcoin-predictor.pkl')"
   ]
  },
  {
   "cell_type": "code",
   "execution_count": 7,
   "metadata": {},
   "outputs": [
    {
     "name": "stdout",
     "output_type": "stream",
     "text": [
      "data/EOD-MSFT-edited.csv score: 0.9616562538282494\n",
      "data/BTC-USD-edited.csv score: 0.9383468834688347\n",
      "data/GOOG-edited.csv score: 0.9399031614924523\n",
      "data/EOD-DIS-edited.csv score: 0.4582221598090156\n",
      "data/EOD-MMM-edited.csv score: 0.9630354957160343\n",
      "data/NFLX-edited.csv score: 0.9479754601226994\n",
      "data/AMZN-edited.csv score: 0.9471613265879708\n",
      "data/AAPL-edited.csv score: 0.9641388039236367\n",
      "data/EOD-V-edited.csv score: 0.975095785440613\n",
      "data/TSLA-edited.csv score: 0.9469548133595285\n",
      "data/FB-edited.csv score: 0.9448364336112893\n"
     ]
    }
   ],
   "source": [
    "for filename in old_csv_filenames:\n",
    "    df = pd.read_csv(filename)\n",
    "    \n",
    "    X = df[['Value USD', 'Max 7', 'Min 7', 'Change', 'Mean Change 7', 'Drop 7', 'Up 7']].values\n",
    "    y = df['Actual'].values\n",
    "    \n",
    "    score = clf.score(X, y)\n",
    "    print('{0} score: {1}'.format(filename, score))"
   ]
  },
  {
   "cell_type": "code",
   "execution_count": 8,
   "metadata": {},
   "outputs": [],
   "source": [
    "model = load_model('data/amzn-predictor-shuffled.hd5')"
   ]
  },
  {
   "cell_type": "code",
   "execution_count": 9,
   "metadata": {},
   "outputs": [],
   "source": [
    "# Convert a Pandas dataframe to the x,y inputs that TensorFlow needs\n",
    "def to_xy(df, target):\n",
    "    result = []\n",
    "    for x in df.columns:\n",
    "        if x != target:\n",
    "            result.append(x)\n",
    "    # find out the type of the target column.  Is it really this hard? :(\n",
    "    target_type = df[target].dtypes\n",
    "    target_type = target_type[0] if hasattr(target_type, '__iter__') else target_type\n",
    "    # Encode to int for classification, float otherwise. TensorFlow likes 32 bits.\n",
    "    if target_type in (np.int64, np.int32):\n",
    "        # Classification\n",
    "        dummies = pd.get_dummies(df[target])\n",
    "        return df.as_matrix(result).astype(np.float32), dummies.as_matrix().astype(np.float32)\n",
    "    else:\n",
    "        # Regression\n",
    "        return df.as_matrix(result).astype(np.float32), df.as_matrix([target]).astype(np.float32)"
   ]
  },
  {
   "cell_type": "code",
   "execution_count": 10,
   "metadata": {},
   "outputs": [
    {
     "name": "stderr",
     "output_type": "stream",
     "text": [
      "/home/sam/code/envs/data/lib/python3.6/site-packages/ipykernel_launcher.py:14: FutureWarning: Method .as_matrix will be removed in a future version. Use .values instead.\n",
      "  \n"
     ]
    },
    {
     "name": "stdout",
     "output_type": "stream",
     "text": [
      "data/EOD-MSFT-edited.csv score: 0.591694230062477\n",
      "data/BTC-USD-edited.csv score: 0.9525745257452575\n",
      "data/GOOG-edited.csv score: 0.4793506123611507\n",
      "data/EOD-DIS-edited.csv score: 0.4684735289987361\n",
      "data/EOD-MMM-edited.csv score: 0.48706650346797226\n",
      "data/NFLX-edited.csv score: 0.5293251533742331\n",
      "data/AMZN-edited.csv score: 0.4892261570170508\n",
      "data/AAPL-edited.csv score: 0.711106423373062\n",
      "data/EOD-V-edited.csv score: 0.5344827586206896\n",
      "data/TSLA-edited.csv score: 0.48379174852652257\n",
      "data/FB-edited.csv score: 0.4644002565747274\n"
     ]
    }
   ],
   "source": [
    "for filename in old_csv_filenames:\n",
    "    df = pd.read_csv(filename)\n",
    "    \n",
    "    df.drop(['Date'], inplace=True, axis=1)\n",
    "    X,y = to_xy(df,\"Actual\")\n",
    "    \n",
    "    pred = model.predict(X)\n",
    "    predict_classes = np.argmax(pred,axis=1)\n",
    "    y_arg = np.argmax(y, axis=1)\n",
    "    \n",
    "    score = accuracy_score(y_arg,predict_classes)\n",
    "    print('{0} score: {1}'.format(filename, score))"
   ]
  },
  {
   "cell_type": "code",
   "execution_count": null,
   "metadata": {},
   "outputs": [],
   "source": []
  },
  {
   "cell_type": "code",
   "execution_count": null,
   "metadata": {},
   "outputs": [],
   "source": []
  },
  {
   "cell_type": "code",
   "execution_count": null,
   "metadata": {},
   "outputs": [],
   "source": []
  },
  {
   "cell_type": "code",
   "execution_count": null,
   "metadata": {},
   "outputs": [],
   "source": []
  },
  {
   "cell_type": "code",
   "execution_count": null,
   "metadata": {},
   "outputs": [],
   "source": []
  }
 ],
 "metadata": {
  "kernelspec": {
   "display_name": "Python 3",
   "language": "python",
   "name": "python3"
  },
  "language_info": {
   "codemirror_mode": {
    "name": "ipython",
    "version": 3
   },
   "file_extension": ".py",
   "mimetype": "text/x-python",
   "name": "python",
   "nbconvert_exporter": "python",
   "pygments_lexer": "ipython3",
   "version": "3.6.7"
  }
 },
 "nbformat": 4,
 "nbformat_minor": 2
}
