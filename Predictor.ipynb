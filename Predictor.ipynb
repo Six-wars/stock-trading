{
 "cells": [
  {
   "cell_type": "code",
   "execution_count": 8,
   "metadata": {},
   "outputs": [
    {
     "name": "stderr",
     "output_type": "stream",
     "text": [
      "c:\\users\\samuel\\appdata\\local\\programs\\python\\python35\\lib\\site-packages\\h5py\\__init__.py:36: FutureWarning: Conversion of the second argument of issubdtype from `float` to `np.floating` is deprecated. In future, it will be treated as `np.float64 == np.dtype(float).type`.\n",
      "  from ._conv import register_converters as _register_converters\n",
      "Using TensorFlow backend.\n"
     ]
    }
   ],
   "source": [
    "import keras\n",
    "from keras import layers\n",
    "from keras.layers.core import Dense, Activation\n",
    "from keras.models import Sequential\n",
    "from keras.callbacks import EarlyStopping\n",
    "from keras.callbacks import ModelCheckpoint\n",
    "import pandas as pd\n",
    "from sklearn.model_selection import train_test_split\n",
    "import numpy as np\n",
    "from sklearn.metrics import accuracy_score\n",
    "from keras.layers import LSTM\n",
    "from sklearn import preprocessing"
   ]
  },
  {
   "cell_type": "code",
   "execution_count": 2,
   "metadata": {},
   "outputs": [],
   "source": [
    "# Convert a Pandas dataframe to the x,y inputs that TensorFlow needs\n",
    "def to_xy(df, target):\n",
    "    result = []\n",
    "    for x in df.columns:\n",
    "        if x != target:\n",
    "            result.append(x)\n",
    "    # find out the type of the target column.  Is it really this hard? :(\n",
    "    target_type = df[target].dtypes\n",
    "    target_type = target_type[0] if hasattr(target_type, '__iter__') else target_type\n",
    "    # Encode to int for classification, float otherwise. TensorFlow likes 32 bits.\n",
    "    if target_type in (np.int64, np.int32):\n",
    "        # Classification\n",
    "        dummies = pd.get_dummies(df[target])\n",
    "        return df.as_matrix(result).astype(np.float32), dummies.as_matrix().astype(np.float32)\n",
    "    else:\n",
    "        # Regression\n",
    "        return df.as_matrix(result).astype(np.float32), df.as_matrix([target]).astype(np.float32)\n",
    "    \n",
    "# Encode text values to indexes(i.e. [1],[2],[3] for red,green,blue).\n",
    "def encode_text_index(df, name):\n",
    "    le = preprocessing.LabelEncoder()\n",
    "    df[name] = le.fit_transform(df[name])\n",
    "    return le.classes_"
   ]
  },
  {
   "cell_type": "code",
   "execution_count": 9,
   "metadata": {},
   "outputs": [],
   "source": [
    "df = pd.read_csv('data/BTC-USD-edited.csv')"
   ]
  },
  {
   "cell_type": "code",
   "execution_count": 3,
   "metadata": {},
   "outputs": [
    {
     "data": {
      "text/html": [
       "<div>\n",
       "<style scoped>\n",
       "    .dataframe tbody tr th:only-of-type {\n",
       "        vertical-align: middle;\n",
       "    }\n",
       "\n",
       "    .dataframe tbody tr th {\n",
       "        vertical-align: top;\n",
       "    }\n",
       "\n",
       "    .dataframe thead th {\n",
       "        text-align: right;\n",
       "    }\n",
       "</style>\n",
       "<table border=\"1\" class=\"dataframe\">\n",
       "  <thead>\n",
       "    <tr style=\"text-align: right;\">\n",
       "      <th></th>\n",
       "      <th>Date</th>\n",
       "      <th>Open</th>\n",
       "      <th>High</th>\n",
       "      <th>Low</th>\n",
       "      <th>Close</th>\n",
       "      <th>Adj Close</th>\n",
       "      <th>Volume</th>\n",
       "      <th>Open 2</th>\n",
       "      <th>Max 7</th>\n",
       "      <th>Min 7</th>\n",
       "      <th>Change</th>\n",
       "      <th>Mean Change 7</th>\n",
       "      <th>Drop 7</th>\n",
       "      <th>Up 7</th>\n",
       "      <th>Predict</th>\n",
       "      <th>Prediction</th>\n",
       "      <th>Actual</th>\n",
       "    </tr>\n",
       "  </thead>\n",
       "  <tbody>\n",
       "    <tr>\n",
       "      <th>0</th>\n",
       "      <td>2010-07-22</td>\n",
       "      <td>0.05050</td>\n",
       "      <td>0.06767</td>\n",
       "      <td>0.05050</td>\n",
       "      <td>0.06262</td>\n",
       "      <td>0.06262</td>\n",
       "      <td>141</td>\n",
       "      <td>0.06262</td>\n",
       "      <td>0.08584</td>\n",
       "      <td>0.04951</td>\n",
       "      <td>-0.01212</td>\n",
       "      <td>-0.001873</td>\n",
       "      <td>3.0</td>\n",
       "      <td>3.0</td>\n",
       "      <td>-2.0</td>\n",
       "      <td>0</td>\n",
       "      <td>1</td>\n",
       "    </tr>\n",
       "    <tr>\n",
       "      <th>1</th>\n",
       "      <td>2010-07-23</td>\n",
       "      <td>0.06262</td>\n",
       "      <td>0.06161</td>\n",
       "      <td>0.05049</td>\n",
       "      <td>0.05454</td>\n",
       "      <td>0.05454</td>\n",
       "      <td>26</td>\n",
       "      <td>0.05454</td>\n",
       "      <td>0.08584</td>\n",
       "      <td>0.04951</td>\n",
       "      <td>0.00808</td>\n",
       "      <td>-0.000719</td>\n",
       "      <td>3.0</td>\n",
       "      <td>4.0</td>\n",
       "      <td>-1.0</td>\n",
       "      <td>0</td>\n",
       "      <td>0</td>\n",
       "    </tr>\n",
       "    <tr>\n",
       "      <th>2</th>\n",
       "      <td>2010-07-24</td>\n",
       "      <td>0.05454</td>\n",
       "      <td>0.05941</td>\n",
       "      <td>0.05050</td>\n",
       "      <td>0.05050</td>\n",
       "      <td>0.05050</td>\n",
       "      <td>85</td>\n",
       "      <td>0.05050</td>\n",
       "      <td>0.08584</td>\n",
       "      <td>0.05050</td>\n",
       "      <td>0.00404</td>\n",
       "      <td>0.005049</td>\n",
       "      <td>2.0</td>\n",
       "      <td>5.0</td>\n",
       "      <td>1.0</td>\n",
       "      <td>1</td>\n",
       "      <td>0</td>\n",
       "    </tr>\n",
       "    <tr>\n",
       "      <th>3</th>\n",
       "      <td>2010-07-25</td>\n",
       "      <td>0.05050</td>\n",
       "      <td>0.05600</td>\n",
       "      <td>0.05000</td>\n",
       "      <td>0.05600</td>\n",
       "      <td>0.05600</td>\n",
       "      <td>46</td>\n",
       "      <td>0.05600</td>\n",
       "      <td>0.08080</td>\n",
       "      <td>0.05050</td>\n",
       "      <td>-0.00550</td>\n",
       "      <td>0.003543</td>\n",
       "      <td>3.0</td>\n",
       "      <td>4.0</td>\n",
       "      <td>-1.0</td>\n",
       "      <td>0</td>\n",
       "      <td>1</td>\n",
       "    </tr>\n",
       "    <tr>\n",
       "      <th>4</th>\n",
       "      <td>2010-07-26</td>\n",
       "      <td>0.05600</td>\n",
       "      <td>0.06050</td>\n",
       "      <td>0.05300</td>\n",
       "      <td>0.06000</td>\n",
       "      <td>0.06000</td>\n",
       "      <td>196</td>\n",
       "      <td>0.06000</td>\n",
       "      <td>0.07921</td>\n",
       "      <td>0.05050</td>\n",
       "      <td>-0.00400</td>\n",
       "      <td>0.002106</td>\n",
       "      <td>4.0</td>\n",
       "      <td>3.0</td>\n",
       "      <td>-2.0</td>\n",
       "      <td>0</td>\n",
       "      <td>1</td>\n",
       "    </tr>\n",
       "  </tbody>\n",
       "</table>\n",
       "</div>"
      ],
      "text/plain": [
       "         Date     Open     High      Low    Close  Adj Close  Volume   Open 2  \\\n",
       "0  2010-07-22  0.05050  0.06767  0.05050  0.06262    0.06262     141  0.06262   \n",
       "1  2010-07-23  0.06262  0.06161  0.05049  0.05454    0.05454      26  0.05454   \n",
       "2  2010-07-24  0.05454  0.05941  0.05050  0.05050    0.05050      85  0.05050   \n",
       "3  2010-07-25  0.05050  0.05600  0.05000  0.05600    0.05600      46  0.05600   \n",
       "4  2010-07-26  0.05600  0.06050  0.05300  0.06000    0.06000     196  0.06000   \n",
       "\n",
       "     Max 7    Min 7   Change  Mean Change 7  Drop 7  Up 7  Predict  \\\n",
       "0  0.08584  0.04951 -0.01212      -0.001873     3.0   3.0     -2.0   \n",
       "1  0.08584  0.04951  0.00808      -0.000719     3.0   4.0     -1.0   \n",
       "2  0.08584  0.05050  0.00404       0.005049     2.0   5.0      1.0   \n",
       "3  0.08080  0.05050 -0.00550       0.003543     3.0   4.0     -1.0   \n",
       "4  0.07921  0.05050 -0.00400       0.002106     4.0   3.0     -2.0   \n",
       "\n",
       "   Prediction  Actual  \n",
       "0           0       1  \n",
       "1           0       0  \n",
       "2           1       0  \n",
       "3           0       1  \n",
       "4           0       1  "
      ]
     },
     "execution_count": 3,
     "metadata": {},
     "output_type": "execute_result"
    }
   ],
   "source": [
    "df.head()"
   ]
  },
  {
   "cell_type": "code",
   "execution_count": 6,
   "metadata": {},
   "outputs": [
    {
     "data": {
      "text/plain": [
       "1    1612\n",
       "0    1341\n",
       "Name: Actual, dtype: int64"
      ]
     },
     "execution_count": 6,
     "metadata": {},
     "output_type": "execute_result"
    }
   ],
   "source": [
    "df['Actual'].value_counts()"
   ]
  },
  {
   "cell_type": "code",
   "execution_count": 3,
   "metadata": {},
   "outputs": [
    {
     "data": {
      "text/html": [
       "<div>\n",
       "<style scoped>\n",
       "    .dataframe tbody tr th:only-of-type {\n",
       "        vertical-align: middle;\n",
       "    }\n",
       "\n",
       "    .dataframe tbody tr th {\n",
       "        vertical-align: top;\n",
       "    }\n",
       "\n",
       "    .dataframe thead th {\n",
       "        text-align: right;\n",
       "    }\n",
       "</style>\n",
       "<table border=\"1\" class=\"dataframe\">\n",
       "  <thead>\n",
       "    <tr style=\"text-align: right;\">\n",
       "      <th></th>\n",
       "      <th>Open</th>\n",
       "      <th>Adj Close</th>\n",
       "      <th>Max 7</th>\n",
       "      <th>Min 7</th>\n",
       "      <th>Change</th>\n",
       "      <th>Mean Change 7</th>\n",
       "      <th>Drop 7</th>\n",
       "      <th>Up 7</th>\n",
       "      <th>Actual</th>\n",
       "    </tr>\n",
       "  </thead>\n",
       "  <tbody>\n",
       "    <tr>\n",
       "      <th>0</th>\n",
       "      <td>0.05050</td>\n",
       "      <td>0.06262</td>\n",
       "      <td>0.08584</td>\n",
       "      <td>0.04951</td>\n",
       "      <td>-0.01212</td>\n",
       "      <td>-0.001873</td>\n",
       "      <td>3.0</td>\n",
       "      <td>3.0</td>\n",
       "      <td>1</td>\n",
       "    </tr>\n",
       "    <tr>\n",
       "      <th>1</th>\n",
       "      <td>0.06262</td>\n",
       "      <td>0.05454</td>\n",
       "      <td>0.08584</td>\n",
       "      <td>0.04951</td>\n",
       "      <td>0.00808</td>\n",
       "      <td>-0.000719</td>\n",
       "      <td>3.0</td>\n",
       "      <td>4.0</td>\n",
       "      <td>0</td>\n",
       "    </tr>\n",
       "    <tr>\n",
       "      <th>2</th>\n",
       "      <td>0.05454</td>\n",
       "      <td>0.05050</td>\n",
       "      <td>0.08584</td>\n",
       "      <td>0.05050</td>\n",
       "      <td>0.00404</td>\n",
       "      <td>0.005049</td>\n",
       "      <td>2.0</td>\n",
       "      <td>5.0</td>\n",
       "      <td>0</td>\n",
       "    </tr>\n",
       "    <tr>\n",
       "      <th>3</th>\n",
       "      <td>0.05050</td>\n",
       "      <td>0.05600</td>\n",
       "      <td>0.08080</td>\n",
       "      <td>0.05050</td>\n",
       "      <td>-0.00550</td>\n",
       "      <td>0.003543</td>\n",
       "      <td>3.0</td>\n",
       "      <td>4.0</td>\n",
       "      <td>1</td>\n",
       "    </tr>\n",
       "    <tr>\n",
       "      <th>4</th>\n",
       "      <td>0.05600</td>\n",
       "      <td>0.06000</td>\n",
       "      <td>0.07921</td>\n",
       "      <td>0.05050</td>\n",
       "      <td>-0.00400</td>\n",
       "      <td>0.002106</td>\n",
       "      <td>4.0</td>\n",
       "      <td>3.0</td>\n",
       "      <td>1</td>\n",
       "    </tr>\n",
       "  </tbody>\n",
       "</table>\n",
       "</div>"
      ],
      "text/plain": [
       "      Open  Adj Close    Max 7    Min 7   Change  Mean Change 7  Drop 7  Up 7  \\\n",
       "0  0.05050    0.06262  0.08584  0.04951 -0.01212      -0.001873     3.0   3.0   \n",
       "1  0.06262    0.05454  0.08584  0.04951  0.00808      -0.000719     3.0   4.0   \n",
       "2  0.05454    0.05050  0.08584  0.05050  0.00404       0.005049     2.0   5.0   \n",
       "3  0.05050    0.05600  0.08080  0.05050 -0.00550       0.003543     3.0   4.0   \n",
       "4  0.05600    0.06000  0.07921  0.05050 -0.00400       0.002106     4.0   3.0   \n",
       "\n",
       "   Actual  \n",
       "0       1  \n",
       "1       0  \n",
       "2       0  \n",
       "3       1  \n",
       "4       1  "
      ]
     },
     "execution_count": 3,
     "metadata": {},
     "output_type": "execute_result"
    }
   ],
   "source": [
    "df.drop(['Date', 'High', 'Low', 'Close', 'Volume', 'Open 2', 'Predict', 'Prediction'], axis=1, inplace=True)\n",
    "df.head()"
   ]
  },
  {
   "cell_type": "code",
   "execution_count": 4,
   "metadata": {},
   "outputs": [
    {
     "data": {
      "text/html": [
       "<div>\n",
       "<style scoped>\n",
       "    .dataframe tbody tr th:only-of-type {\n",
       "        vertical-align: middle;\n",
       "    }\n",
       "\n",
       "    .dataframe tbody tr th {\n",
       "        vertical-align: top;\n",
       "    }\n",
       "\n",
       "    .dataframe thead th {\n",
       "        text-align: right;\n",
       "    }\n",
       "</style>\n",
       "<table border=\"1\" class=\"dataframe\">\n",
       "  <thead>\n",
       "    <tr style=\"text-align: right;\">\n",
       "      <th></th>\n",
       "      <th>Open</th>\n",
       "      <th>Max 7</th>\n",
       "      <th>Min 7</th>\n",
       "      <th>Change</th>\n",
       "      <th>Mean Change 7</th>\n",
       "      <th>Drop 7</th>\n",
       "      <th>Up 7</th>\n",
       "      <th>Actual</th>\n",
       "    </tr>\n",
       "  </thead>\n",
       "  <tbody>\n",
       "    <tr>\n",
       "      <th>0</th>\n",
       "      <td>0.05050</td>\n",
       "      <td>0.08584</td>\n",
       "      <td>0.04951</td>\n",
       "      <td>-0.01212</td>\n",
       "      <td>-0.001873</td>\n",
       "      <td>3.0</td>\n",
       "      <td>3.0</td>\n",
       "      <td>1</td>\n",
       "    </tr>\n",
       "    <tr>\n",
       "      <th>1</th>\n",
       "      <td>0.06262</td>\n",
       "      <td>0.08584</td>\n",
       "      <td>0.04951</td>\n",
       "      <td>0.00808</td>\n",
       "      <td>-0.000719</td>\n",
       "      <td>3.0</td>\n",
       "      <td>4.0</td>\n",
       "      <td>0</td>\n",
       "    </tr>\n",
       "    <tr>\n",
       "      <th>2</th>\n",
       "      <td>0.05454</td>\n",
       "      <td>0.08584</td>\n",
       "      <td>0.05050</td>\n",
       "      <td>0.00404</td>\n",
       "      <td>0.005049</td>\n",
       "      <td>2.0</td>\n",
       "      <td>5.0</td>\n",
       "      <td>0</td>\n",
       "    </tr>\n",
       "    <tr>\n",
       "      <th>3</th>\n",
       "      <td>0.05050</td>\n",
       "      <td>0.08080</td>\n",
       "      <td>0.05050</td>\n",
       "      <td>-0.00550</td>\n",
       "      <td>0.003543</td>\n",
       "      <td>3.0</td>\n",
       "      <td>4.0</td>\n",
       "      <td>1</td>\n",
       "    </tr>\n",
       "    <tr>\n",
       "      <th>4</th>\n",
       "      <td>0.05600</td>\n",
       "      <td>0.07921</td>\n",
       "      <td>0.05050</td>\n",
       "      <td>-0.00400</td>\n",
       "      <td>0.002106</td>\n",
       "      <td>4.0</td>\n",
       "      <td>3.0</td>\n",
       "      <td>1</td>\n",
       "    </tr>\n",
       "  </tbody>\n",
       "</table>\n",
       "</div>"
      ],
      "text/plain": [
       "      Open    Max 7    Min 7   Change  Mean Change 7  Drop 7  Up 7  Actual\n",
       "0  0.05050  0.08584  0.04951 -0.01212      -0.001873     3.0   3.0       1\n",
       "1  0.06262  0.08584  0.04951  0.00808      -0.000719     3.0   4.0       0\n",
       "2  0.05454  0.08584  0.05050  0.00404       0.005049     2.0   5.0       0\n",
       "3  0.05050  0.08080  0.05050 -0.00550       0.003543     3.0   4.0       1\n",
       "4  0.05600  0.07921  0.05050 -0.00400       0.002106     4.0   3.0       1"
      ]
     },
     "execution_count": 4,
     "metadata": {},
     "output_type": "execute_result"
    }
   ],
   "source": [
    "df.drop('Adj Close', axis=1, inplace=True)\n",
    "df.head()"
   ]
  },
  {
   "cell_type": "code",
   "execution_count": 5,
   "metadata": {},
   "outputs": [],
   "source": [
    "from sklearn.ensemble import RandomForestClassifier"
   ]
  },
  {
   "cell_type": "code",
   "execution_count": 10,
   "metadata": {},
   "outputs": [],
   "source": [
    "X = df[['Open', 'Max 7', 'Min 7', 'Change', 'Mean Change 7', 'Drop 7', 'Up 7']].values\n",
    "y = df['Actual'].values"
   ]
  },
  {
   "cell_type": "code",
   "execution_count": 7,
   "metadata": {},
   "outputs": [],
   "source": [
    "X_train, X_test, y_train, y_test = train_test_split(X, y, test_size=0.20, random_state=42)"
   ]
  },
  {
   "cell_type": "code",
   "execution_count": 8,
   "metadata": {},
   "outputs": [
    {
     "data": {
      "text/plain": [
       "RandomForestClassifier(bootstrap=True, class_weight=None, criterion='gini',\n",
       "            max_depth=2, max_features='auto', max_leaf_nodes=None,\n",
       "            min_impurity_decrease=0.0, min_impurity_split=None,\n",
       "            min_samples_leaf=1, min_samples_split=2,\n",
       "            min_weight_fraction_leaf=0.0, n_estimators=10, n_jobs=1,\n",
       "            oob_score=False, random_state=0, verbose=0, warm_start=False)"
      ]
     },
     "execution_count": 8,
     "metadata": {},
     "output_type": "execute_result"
    }
   ],
   "source": [
    "clf = RandomForestClassifier(max_depth=2, random_state=0)\n",
    "clf.fit(X_train, y_train)"
   ]
  },
  {
   "cell_type": "code",
   "execution_count": 20,
   "metadata": {},
   "outputs": [
    {
     "data": {
      "text/plain": [
       "2"
      ]
     },
     "execution_count": 20,
     "metadata": {},
     "output_type": "execute_result"
    }
   ],
   "source": [
    "abs(-2)"
   ]
  },
  {
   "cell_type": "code",
   "execution_count": 9,
   "metadata": {},
   "outputs": [
    {
     "data": {
      "text/plain": [
       "0.9390862944162437"
      ]
     },
     "execution_count": 9,
     "metadata": {},
     "output_type": "execute_result"
    }
   ],
   "source": [
    "clf.score(X_test, y_test)"
   ]
  },
  {
   "cell_type": "code",
   "execution_count": 1,
   "metadata": {},
   "outputs": [],
   "source": [
    "from sklearn.externals import joblib"
   ]
  },
  {
   "cell_type": "code",
   "execution_count": 11,
   "metadata": {},
   "outputs": [
    {
     "data": {
      "text/plain": [
       "['data/bitcoin-predictor.pkl']"
      ]
     },
     "execution_count": 11,
     "metadata": {},
     "output_type": "execute_result"
    }
   ],
   "source": [
    "joblib.dump(clf, 'data/bitcoin-predictor.pkl')"
   ]
  },
  {
   "cell_type": "code",
   "execution_count": 2,
   "metadata": {},
   "outputs": [],
   "source": [
    "clf = joblib.load('data/bitcoin-predictor.pkl')"
   ]
  },
  {
   "cell_type": "code",
   "execution_count": null,
   "metadata": {},
   "outputs": [],
   "source": [
    "[0.05050, 0.08584, 0.04951, -0.01212, -0.001873, 3.0, 3.0]"
   ]
  },
  {
   "cell_type": "code",
   "execution_count": 22,
   "metadata": {},
   "outputs": [
    {
     "data": {
      "text/plain": [
       "1"
      ]
     },
     "execution_count": 22,
     "metadata": {},
     "output_type": "execute_result"
    }
   ],
   "source": [
    "clf.predict(np.array([0.05050, 0.08584, 0.04951, -0.01212, -0.001873, 3.0, 3.0]).reshape(1, -1))[0]"
   ]
  },
  {
   "cell_type": "code",
   "execution_count": 13,
   "metadata": {},
   "outputs": [
    {
     "data": {
      "text/plain": [
       "0.9390862944162437"
      ]
     },
     "execution_count": 13,
     "metadata": {},
     "output_type": "execute_result"
    }
   ],
   "source": [
    "clf.score(X_test, y_test)"
   ]
  },
  {
   "cell_type": "code",
   "execution_count": 18,
   "metadata": {},
   "outputs": [
    {
     "data": {
      "text/plain": [
       "Date             2010-07-22\n",
       "Open                 0.0505\n",
       "High                0.06767\n",
       "Low                  0.0505\n",
       "Close               0.06262\n",
       "Adj Close           0.06262\n",
       "Volume                  141\n",
       "Open 2              0.06262\n",
       "Max 7               0.08584\n",
       "Min 7               0.04951\n",
       "Change             -0.01212\n",
       "Mean Change 7   -0.00187286\n",
       "Drop 7                    3\n",
       "Up 7                      3\n",
       "Predict                  -2\n",
       "Prediction                0\n",
       "Actual                    1\n",
       "Name: 0, dtype: object"
      ]
     },
     "execution_count": 18,
     "metadata": {},
     "output_type": "execute_result"
    }
   ],
   "source": [
    "df.iloc[0]"
   ]
  },
  {
   "cell_type": "code",
   "execution_count": 19,
   "metadata": {},
   "outputs": [
    {
     "data": {
      "text/plain": [
       "Open     0.0505\n",
       "High    0.06767\n",
       "Low      0.0505\n",
       "Name: 0, dtype: object"
      ]
     },
     "execution_count": 19,
     "metadata": {},
     "output_type": "execute_result"
    }
   ],
   "source": [
    "df.iloc[0][['Open','High','Low']]"
   ]
  },
  {
   "cell_type": "code",
   "execution_count": 32,
   "metadata": {},
   "outputs": [],
   "source": [
    "X2 = df2[['Open', 'Max 7', 'Min 7', 'Change', 'Mean Change 7', 'Drop 7', 'Up 7']].values\n",
    "y2 = df2['Actual'].values"
   ]
  },
  {
   "cell_type": "code",
   "execution_count": 33,
   "metadata": {},
   "outputs": [
    {
     "data": {
      "text/plain": [
       "0.4176334106728538"
      ]
     },
     "execution_count": 33,
     "metadata": {},
     "output_type": "execute_result"
    }
   ],
   "source": [
    "clf.score(X2, y2)"
   ]
  },
  {
   "cell_type": "code",
   "execution_count": 7,
   "metadata": {},
   "outputs": [],
   "source": [
    "X,y = to_xy(df,\"Actual\")"
   ]
  },
  {
   "cell_type": "code",
   "execution_count": 8,
   "metadata": {},
   "outputs": [],
   "source": [
    "X_train, X_test, y_train, y_test = train_test_split(X, y, test_size=0.20, random_state=42)"
   ]
  },
  {
   "cell_type": "code",
   "execution_count": 9,
   "metadata": {},
   "outputs": [
    {
     "name": "stdout",
     "output_type": "stream",
     "text": [
      "Train on 2362 samples, validate on 591 samples\n",
      "Epoch 1/1000\n",
      " - 3s - loss: 4.0986 - val_loss: 3.2790\n",
      "Epoch 2/1000\n",
      " - 0s - loss: 1.9809 - val_loss: 0.4511\n",
      "Epoch 3/1000\n",
      " - 0s - loss: 0.8889 - val_loss: 0.3435\n",
      "Epoch 4/1000\n",
      " - 0s - loss: 0.8331 - val_loss: 0.4944\n",
      "Epoch 5/1000\n",
      " - 0s - loss: 0.7122 - val_loss: 2.7115\n",
      "Epoch 6/1000\n",
      " - 0s - loss: 2.3070 - val_loss: 2.1721\n",
      "Epoch 7/1000\n",
      " - 0s - loss: 0.7217 - val_loss: 0.3364\n",
      "Epoch 8/1000\n",
      " - 0s - loss: 0.4693 - val_loss: 0.2795\n",
      "Epoch 9/1000\n",
      " - 0s - loss: 1.1468 - val_loss: 0.2923\n",
      "Epoch 10/1000\n",
      " - 0s - loss: 0.3399 - val_loss: 0.2821\n",
      "Epoch 11/1000\n",
      " - 0s - loss: 0.6785 - val_loss: 0.6393\n",
      "Epoch 12/1000\n",
      " - 0s - loss: 0.4028 - val_loss: 0.3180\n",
      "Epoch 13/1000\n",
      " - 0s - loss: 0.3777 - val_loss: 0.9051\n",
      "Epoch 14/1000\n",
      " - 0s - loss: 0.3900 - val_loss: 0.2362\n",
      "Epoch 15/1000\n",
      " - 0s - loss: 0.3052 - val_loss: 0.3325\n",
      "Epoch 16/1000\n",
      " - 0s - loss: 0.1849 - val_loss: 0.5999\n",
      "Epoch 17/1000\n",
      " - 0s - loss: 0.3221 - val_loss: 0.1700\n",
      "Epoch 18/1000\n",
      " - 0s - loss: 0.3261 - val_loss: 0.5254\n",
      "Epoch 19/1000\n",
      " - 0s - loss: 0.3268 - val_loss: 0.2400\n",
      "Epoch 20/1000\n",
      " - 0s - loss: 0.1985 - val_loss: 0.1696\n",
      "Epoch 21/1000\n",
      " - 0s - loss: 0.3524 - val_loss: 0.1792\n",
      "Epoch 22/1000\n",
      " - 0s - loss: 0.3941 - val_loss: 0.2260\n",
      "Epoch 23/1000\n",
      " - 0s - loss: 0.1884 - val_loss: 0.1476\n",
      "Epoch 24/1000\n",
      " - 0s - loss: 0.1158 - val_loss: 0.1179\n",
      "Epoch 25/1000\n",
      " - 0s - loss: 0.2895 - val_loss: 0.1734\n",
      "Epoch 26/1000\n",
      " - 0s - loss: 0.2313 - val_loss: 0.1787\n",
      "Epoch 27/1000\n",
      " - 0s - loss: 0.3110 - val_loss: 0.1681\n",
      "Epoch 28/1000\n",
      " - 1s - loss: 0.1183 - val_loss: 0.1103\n",
      "Epoch 29/1000\n",
      " - 1s - loss: 0.1586 - val_loss: 0.1469\n",
      "Epoch 30/1000\n",
      " - 0s - loss: 0.0938 - val_loss: 0.1351\n",
      "Epoch 31/1000\n",
      " - 0s - loss: 0.1677 - val_loss: 0.1374\n",
      "Epoch 32/1000\n",
      " - 1s - loss: 0.1437 - val_loss: 0.1216\n",
      "Epoch 33/1000\n",
      " - 1s - loss: 0.8587 - val_loss: 0.1599\n",
      "Epoch 34/1000\n",
      " - 1s - loss: 0.1596 - val_loss: 0.1297\n",
      "Epoch 35/1000\n",
      " - 1s - loss: 0.3959 - val_loss: 0.1348\n",
      "Epoch 36/1000\n",
      " - 0s - loss: 0.2298 - val_loss: 0.2588\n",
      "Epoch 37/1000\n",
      " - 0s - loss: 0.1740 - val_loss: 0.2553\n",
      "Epoch 38/1000\n",
      " - 0s - loss: 0.1085 - val_loss: 0.1412\n",
      "Epoch 39/1000\n",
      " - 1s - loss: 0.0834 - val_loss: 0.0953\n",
      "Epoch 40/1000\n",
      " - 0s - loss: 0.1084 - val_loss: 0.1288\n",
      "Epoch 41/1000\n",
      " - 0s - loss: 0.0784 - val_loss: 0.1193\n",
      "Epoch 42/1000\n",
      " - 0s - loss: 0.0904 - val_loss: 0.1151\n",
      "Epoch 43/1000\n",
      " - 0s - loss: 0.2667 - val_loss: 0.3757\n",
      "Epoch 44/1000\n",
      " - 0s - loss: 0.1796 - val_loss: 0.1106\n",
      "Epoch 45/1000\n",
      " - 1s - loss: 0.1933 - val_loss: 0.3802\n",
      "Epoch 46/1000\n",
      " - 0s - loss: 0.2617 - val_loss: 0.3527\n",
      "Epoch 47/1000\n",
      " - 1s - loss: 0.1542 - val_loss: 0.4486\n",
      "Epoch 48/1000\n",
      " - 0s - loss: 0.1990 - val_loss: 0.1225\n",
      "Epoch 49/1000\n",
      " - 1s - loss: 0.7622 - val_loss: 0.2424\n",
      "Epoch 50/1000\n",
      " - 0s - loss: 0.2389 - val_loss: 0.1226\n",
      "Epoch 51/1000\n",
      " - 0s - loss: 0.0747 - val_loss: 0.0958\n",
      "Epoch 52/1000\n",
      " - 1s - loss: 0.1290 - val_loss: 0.2079\n",
      "Epoch 53/1000\n",
      " - 0s - loss: 0.0889 - val_loss: 0.1068\n",
      "Epoch 54/1000\n",
      " - 1s - loss: 0.0584 - val_loss: 0.0944\n",
      "Epoch 55/1000\n",
      " - 1s - loss: 0.2151 - val_loss: 0.1194\n",
      "Epoch 56/1000\n",
      " - 1s - loss: 0.1633 - val_loss: 0.0893\n",
      "Epoch 57/1000\n",
      " - 1s - loss: 0.0686 - val_loss: 0.0960\n",
      "Epoch 58/1000\n",
      " - 0s - loss: 0.0607 - val_loss: 0.0884\n",
      "Epoch 59/1000\n",
      " - 1s - loss: 0.0651 - val_loss: 0.1915\n",
      "Epoch 60/1000\n",
      " - 0s - loss: 0.0562 - val_loss: 0.0995\n",
      "Epoch 61/1000\n",
      " - 1s - loss: 1.9859 - val_loss: 5.9858\n",
      "Epoch 62/1000\n",
      " - 0s - loss: 2.9463 - val_loss: 0.9567\n",
      "Epoch 63/1000\n",
      " - 0s - loss: 1.5587 - val_loss: 0.1932\n",
      "Epoch 64/1000\n",
      " - 0s - loss: 1.1365 - val_loss: 2.4021\n",
      "Epoch 00064: early stopping\n"
     ]
    }
   ],
   "source": [
    "model = Sequential()\n",
    "model.add(Dense(80, activation='relu', input_dim=X_train.shape[1]))\n",
    "model.add(Dense(80, activation='relu'))\n",
    "model.add(Dense(80, activation='relu'))\n",
    "model.add(Dense(80, activation='relu'))\n",
    "model.add(Dense(80, activation='relu'))\n",
    "model.add(Dense(y_train.shape[1],activation='softmax'))\n",
    "\n",
    "#model.compile(optimizer='adam', loss='categorical_crossentropy', metrics=['accuracy'])\n",
    "#model.fit(X_train, y_train, epochs=1000)\n",
    "\n",
    "model.compile(loss='categorical_crossentropy', optimizer='adam')\n",
    "monitor = EarlyStopping(monitor='val_loss', min_delta=1e-2, patience=25, verbose=1, mode='auto')\n",
    "checkpointer = ModelCheckpoint(filepath=\"best_weights.hdf5\", verbose=0, save_best_only=True) # save best model\n",
    "\n",
    "model.fit(X_train, y_train, validation_data=(X_test, y_test), callbacks=[monitor,checkpointer], verbose=2, epochs=1000)\n",
    "model.load_weights('best_weights.hdf5') # load weights from best model"
   ]
  },
  {
   "cell_type": "code",
   "execution_count": 54,
   "metadata": {},
   "outputs": [],
   "source": [
    "model.save('data/amzn-predictor-shuffled.hd5')"
   ]
  },
  {
   "cell_type": "code",
   "execution_count": 10,
   "metadata": {},
   "outputs": [],
   "source": [
    "pred = model.predict(X_test)"
   ]
  },
  {
   "cell_type": "code",
   "execution_count": 11,
   "metadata": {},
   "outputs": [
    {
     "name": "stdout",
     "output_type": "stream",
     "text": [
      "Shape: (591, 2)\n",
      "[[1.1338343e-02 9.8866165e-01]\n",
      " [0.0000000e+00 1.0000000e+00]\n",
      " [1.4060745e-05 9.9998593e-01]\n",
      " ...\n",
      " [7.8182465e-01 2.1817538e-01]\n",
      " [0.0000000e+00 1.0000000e+00]\n",
      " [3.2087931e-04 9.9967909e-01]]\n"
     ]
    }
   ],
   "source": [
    "print(\"Shape: {}\".format(pred.shape))\n",
    "print(pred)"
   ]
  },
  {
   "cell_type": "code",
   "execution_count": 12,
   "metadata": {},
   "outputs": [
    {
     "name": "stdout",
     "output_type": "stream",
     "text": [
      "Predictions: [1 1 1 1 0 1 0 1 0 0 0 0 1 0 1 1 1 1 0 1 0 0 0 1 1 0 1 0 0 1 0 0 0 1 0 1 1\n",
      " 1 0 1 0 1 1 0 0 0 1 0 0 1 0 1 0 0 1 1 0 0 0 1 0 0 1 1 1 0 0 1 1 1 1 0 1 0\n",
      " 0 0 1 1 1 0 1 0 1 1 0 0 0 0 1 0 1 0 1 0 1 1 1 1 0 1 1 0 1 1 0 0 1 1 1 1 1\n",
      " 1 1 1 1 0 0 1 1 1 0 1 1 1 0 1 0 0 0 0 1 1 0 1 1 1 1 1 0 1 1 0 1 0 0 0 0 1\n",
      " 1 1 1 1 0 1 1 1 0 0 0 1 0 1 0 1 0 1 1 1 1 1 1 1 1 0 0 1 0 1 0 0 1 0 0 0 1\n",
      " 1 1 0 1 1 1 1 0 0 0 1 1 0 1 1 1 0 0 1 1 0 1 1 1 0 1 1 1 1 1 0 1 0 1 1 0 0\n",
      " 0 0 1 1 1 0 1 1 0 1 1 1 1 1 1 0 0 1 1 1 1 0 1 1 1 0 1 1 1 0 1 1 0 1 1 1 0\n",
      " 0 1 1 0 1 0 1 0 0 0 0 1 0 1 0 1 1 1 1 0 1 0 1 0 1 1 0 1 1 1 1 1 0 1 0 1 0\n",
      " 1 1 1 1 0 1 0 1 1 1 1 1 0 1 1 0 1 0 0 1 1 1 1 1 0 0 0 1 1 0 1 0 1 1 1 1 1\n",
      " 1 1 1 0 1 0 1 0 1 1 1 1 0 1 0 0 0 1 1 1 1 0 0 1 1 1 0 1 0 0 1 1 1 0 1 0 0\n",
      " 1 1 1 1 0 0 1 1 1 1 1 1 0 1 1 1 1 0 0 0 1 0 1 0 0 1 0 1 1 0 1 1 1 1 0 0 1\n",
      " 1 0 1 1 1 1 1 0 0 1 1 0 1 1 0 1 0 0 1 1 0 1 1 1 1 1 0 1 0 1 1 1 1 1 1 0 0\n",
      " 0 1 0 1 0 1 0 0 1 1 0 1 0 1 1 0 1 1 1 1 1 1 0 0 0 0 1 1 1 1 1 0 1 1 1 1 1\n",
      " 0 1 1 0 1 0 0 1 1 1 1 0 0 0 0 1 1 0 1 0 0 0 0 0 0 1 1 1 1 0 1 1 1 1 0 1 1\n",
      " 1 1 1 0 1 1 0 1 0 1 0 1 1 0 1 0 1 1 1 0 0 1 0 0 1 1 1 1 1 1 1 1 1 1 1 0 0\n",
      " 0 0 0 1 0 1 0 0 1 1 0 0 1 0 0 0 1 1 1 0 1 0 1 0 0 1 1 1 0 1 0 1 1 0 1 1]\n",
      "Expected: [1 1 1 1 0 1 0 1 0 0 0 0 1 0 1 1 1 1 0 1 0 0 0 1 1 0 1 0 0 1 0 0 0 1 0 1 1\n",
      " 1 0 1 0 1 1 0 0 0 1 0 0 1 0 1 0 0 1 1 0 0 0 1 0 0 1 1 1 0 0 1 1 1 1 0 1 0\n",
      " 0 0 1 1 1 0 1 0 1 1 0 0 0 0 1 0 1 0 1 0 1 1 1 1 0 1 1 0 0 1 0 0 1 1 1 0 1\n",
      " 1 0 1 0 0 0 1 1 1 0 1 1 1 0 1 0 0 0 0 1 1 0 1 1 0 1 1 0 1 1 0 1 0 0 0 0 1\n",
      " 1 1 1 1 0 1 1 1 0 0 0 1 0 1 0 0 0 1 1 1 1 1 1 1 1 0 0 1 0 0 0 0 1 0 0 0 1\n",
      " 1 1 0 1 1 1 1 0 0 0 1 1 0 1 1 1 0 0 1 1 0 1 1 1 0 1 1 1 1 1 0 1 0 1 1 0 0\n",
      " 0 0 1 1 1 0 1 1 0 1 1 1 1 1 1 0 0 1 1 1 1 0 1 1 1 0 1 1 1 0 1 1 0 1 1 1 0\n",
      " 0 1 1 0 1 0 1 0 0 0 0 1 0 1 0 1 1 1 1 0 1 0 1 0 1 1 0 1 1 1 1 1 0 1 0 1 0\n",
      " 1 1 1 1 0 1 0 1 1 1 1 1 0 1 0 0 1 0 0 1 1 1 1 1 0 0 0 1 1 0 1 0 1 1 1 1 1\n",
      " 0 1 1 0 1 0 1 0 1 1 0 1 0 1 0 0 0 1 1 1 1 0 0 1 1 1 0 1 0 0 1 1 0 0 1 0 0\n",
      " 1 1 1 1 0 0 1 1 1 1 1 1 0 1 1 1 1 0 0 0 1 0 1 0 0 1 0 1 1 1 1 1 1 1 0 0 1\n",
      " 1 0 1 1 1 1 1 0 0 1 1 0 1 1 0 1 0 0 1 1 0 1 1 1 1 1 0 1 0 1 1 1 1 1 1 0 0\n",
      " 0 1 0 1 0 1 0 0 1 1 0 1 0 1 1 0 1 1 1 1 1 1 0 0 0 0 1 1 1 1 1 0 1 0 0 1 1\n",
      " 0 1 1 0 1 0 0 1 1 1 1 0 0 0 0 1 1 0 1 0 0 0 0 0 0 1 1 1 1 0 1 1 0 1 0 1 1\n",
      " 1 1 1 0 1 1 0 1 0 1 0 1 1 0 1 0 1 1 1 0 0 1 0 0 1 1 1 1 1 1 1 1 1 1 1 0 0\n",
      " 0 0 0 0 0 1 0 0 1 1 0 0 1 0 0 0 1 1 1 0 1 0 1 0 0 1 1 1 0 1 0 1 0 0 1 1]\n"
     ]
    }
   ],
   "source": [
    "predict_classes = np.argmax(pred,axis=1)\n",
    "print(\"Predictions: {}\".format(predict_classes))\n",
    "print(\"Expected: {}\".format(np.argmax(y_test, axis=1)))\n",
    "y_test_arg = np.argmax(y_test, axis=1)"
   ]
  },
  {
   "cell_type": "code",
   "execution_count": 13,
   "metadata": {},
   "outputs": [
    {
     "name": "stdout",
     "output_type": "stream",
     "text": [
      "Accuracy: 0.9712351945854484\n"
     ]
    }
   ],
   "source": [
    "correct = accuracy_score(y_test_arg,predict_classes)\n",
    "print(\"Accuracy: {}\".format(correct))"
   ]
  },
  {
   "cell_type": "code",
   "execution_count": 25,
   "metadata": {},
   "outputs": [
    {
     "data": {
      "text/html": [
       "<div>\n",
       "<style scoped>\n",
       "    .dataframe tbody tr th:only-of-type {\n",
       "        vertical-align: middle;\n",
       "    }\n",
       "\n",
       "    .dataframe tbody tr th {\n",
       "        vertical-align: top;\n",
       "    }\n",
       "\n",
       "    .dataframe thead th {\n",
       "        text-align: right;\n",
       "    }\n",
       "</style>\n",
       "<table border=\"1\" class=\"dataframe\">\n",
       "  <thead>\n",
       "    <tr style=\"text-align: right;\">\n",
       "      <th></th>\n",
       "      <th>Date</th>\n",
       "      <th>Open</th>\n",
       "      <th>High</th>\n",
       "      <th>Low</th>\n",
       "      <th>Close</th>\n",
       "      <th>Adj Close</th>\n",
       "      <th>Volume</th>\n",
       "      <th>Open 2</th>\n",
       "      <th>Max 7</th>\n",
       "      <th>Min 7</th>\n",
       "      <th>Change</th>\n",
       "      <th>Mean Change 7</th>\n",
       "      <th>Drop 7</th>\n",
       "      <th>Up 7</th>\n",
       "      <th>Predict</th>\n",
       "      <th>Prediction</th>\n",
       "      <th>Actual</th>\n",
       "    </tr>\n",
       "  </thead>\n",
       "  <tbody>\n",
       "    <tr>\n",
       "      <th>0</th>\n",
       "      <td>1980-12-22</td>\n",
       "      <td>0.529018</td>\n",
       "      <td>0.531250</td>\n",
       "      <td>0.529018</td>\n",
       "      <td>0.529018</td>\n",
       "      <td>0.023892</td>\n",
       "      <td>9340800.0</td>\n",
       "      <td>0.551339</td>\n",
       "      <td>0.529018</td>\n",
       "      <td>0.453125</td>\n",
       "      <td>-0.022321</td>\n",
       "      <td>-0.005421</td>\n",
       "      <td>5.0</td>\n",
       "      <td>2.0</td>\n",
       "      <td>-2.0</td>\n",
       "      <td>0</td>\n",
       "      <td>0</td>\n",
       "    </tr>\n",
       "    <tr>\n",
       "      <th>1</th>\n",
       "      <td>1980-12-23</td>\n",
       "      <td>0.551339</td>\n",
       "      <td>0.553571</td>\n",
       "      <td>0.551339</td>\n",
       "      <td>0.551339</td>\n",
       "      <td>0.024900</td>\n",
       "      <td>11737600.0</td>\n",
       "      <td>0.580357</td>\n",
       "      <td>0.551339</td>\n",
       "      <td>0.453125</td>\n",
       "      <td>-0.029018</td>\n",
       "      <td>-0.013074</td>\n",
       "      <td>6.0</td>\n",
       "      <td>1.0</td>\n",
       "      <td>-2.0</td>\n",
       "      <td>0</td>\n",
       "      <td>0</td>\n",
       "    </tr>\n",
       "    <tr>\n",
       "      <th>2</th>\n",
       "      <td>1980-12-24</td>\n",
       "      <td>0.580357</td>\n",
       "      <td>0.582589</td>\n",
       "      <td>0.580357</td>\n",
       "      <td>0.580357</td>\n",
       "      <td>0.026211</td>\n",
       "      <td>12000800.0</td>\n",
       "      <td>0.633929</td>\n",
       "      <td>0.580357</td>\n",
       "      <td>0.453125</td>\n",
       "      <td>-0.053572</td>\n",
       "      <td>-0.025829</td>\n",
       "      <td>7.0</td>\n",
       "      <td>0.0</td>\n",
       "      <td>-2.0</td>\n",
       "      <td>0</td>\n",
       "      <td>0</td>\n",
       "    </tr>\n",
       "    <tr>\n",
       "      <th>3</th>\n",
       "      <td>1980-12-26</td>\n",
       "      <td>0.633929</td>\n",
       "      <td>0.636161</td>\n",
       "      <td>0.633929</td>\n",
       "      <td>0.633929</td>\n",
       "      <td>0.028630</td>\n",
       "      <td>13893600.0</td>\n",
       "      <td>0.642857</td>\n",
       "      <td>0.633929</td>\n",
       "      <td>0.462054</td>\n",
       "      <td>-0.008928</td>\n",
       "      <td>-0.025829</td>\n",
       "      <td>7.0</td>\n",
       "      <td>0.0</td>\n",
       "      <td>-2.0</td>\n",
       "      <td>0</td>\n",
       "      <td>0</td>\n",
       "    </tr>\n",
       "    <tr>\n",
       "      <th>4</th>\n",
       "      <td>1980-12-29</td>\n",
       "      <td>0.642857</td>\n",
       "      <td>0.645089</td>\n",
       "      <td>0.642857</td>\n",
       "      <td>0.642857</td>\n",
       "      <td>0.029033</td>\n",
       "      <td>23290400.0</td>\n",
       "      <td>0.629464</td>\n",
       "      <td>0.642857</td>\n",
       "      <td>0.475446</td>\n",
       "      <td>0.013393</td>\n",
       "      <td>-0.022003</td>\n",
       "      <td>6.0</td>\n",
       "      <td>1.0</td>\n",
       "      <td>0.0</td>\n",
       "      <td>0</td>\n",
       "      <td>0</td>\n",
       "    </tr>\n",
       "  </tbody>\n",
       "</table>\n",
       "</div>"
      ],
      "text/plain": [
       "         Date      Open      High       Low     Close  Adj Close      Volume  \\\n",
       "0  1980-12-22  0.529018  0.531250  0.529018  0.529018   0.023892   9340800.0   \n",
       "1  1980-12-23  0.551339  0.553571  0.551339  0.551339   0.024900  11737600.0   \n",
       "2  1980-12-24  0.580357  0.582589  0.580357  0.580357   0.026211  12000800.0   \n",
       "3  1980-12-26  0.633929  0.636161  0.633929  0.633929   0.028630  13893600.0   \n",
       "4  1980-12-29  0.642857  0.645089  0.642857  0.642857   0.029033  23290400.0   \n",
       "\n",
       "     Open 2     Max 7     Min 7    Change  Mean Change 7  Drop 7  Up 7  \\\n",
       "0  0.551339  0.529018  0.453125 -0.022321      -0.005421     5.0   2.0   \n",
       "1  0.580357  0.551339  0.453125 -0.029018      -0.013074     6.0   1.0   \n",
       "2  0.633929  0.580357  0.453125 -0.053572      -0.025829     7.0   0.0   \n",
       "3  0.642857  0.633929  0.462054 -0.008928      -0.025829     7.0   0.0   \n",
       "4  0.629464  0.642857  0.475446  0.013393      -0.022003     6.0   1.0   \n",
       "\n",
       "   Predict  Prediction  Actual  \n",
       "0     -2.0           0       0  \n",
       "1     -2.0           0       0  \n",
       "2     -2.0           0       0  \n",
       "3     -2.0           0       0  \n",
       "4      0.0           0       0  "
      ]
     },
     "execution_count": 25,
     "metadata": {},
     "output_type": "execute_result"
    }
   ],
   "source": [
    "df2 = pd.read_csv('data/AAPL-edited2.csv')\n",
    "df2.head()"
   ]
  },
  {
   "cell_type": "code",
   "execution_count": 27,
   "metadata": {},
   "outputs": [
    {
     "data": {
      "text/html": [
       "<div>\n",
       "<style scoped>\n",
       "    .dataframe tbody tr th:only-of-type {\n",
       "        vertical-align: middle;\n",
       "    }\n",
       "\n",
       "    .dataframe tbody tr th {\n",
       "        vertical-align: top;\n",
       "    }\n",
       "\n",
       "    .dataframe thead th {\n",
       "        text-align: right;\n",
       "    }\n",
       "</style>\n",
       "<table border=\"1\" class=\"dataframe\">\n",
       "  <thead>\n",
       "    <tr style=\"text-align: right;\">\n",
       "      <th></th>\n",
       "      <th>Open</th>\n",
       "      <th>Adj Close</th>\n",
       "      <th>Max 7</th>\n",
       "      <th>Min 7</th>\n",
       "      <th>Change</th>\n",
       "      <th>Mean Change 7</th>\n",
       "      <th>Drop 7</th>\n",
       "      <th>Up 7</th>\n",
       "      <th>Actual</th>\n",
       "    </tr>\n",
       "  </thead>\n",
       "  <tbody>\n",
       "    <tr>\n",
       "      <th>0</th>\n",
       "      <td>0.529018</td>\n",
       "      <td>0.023892</td>\n",
       "      <td>0.529018</td>\n",
       "      <td>0.453125</td>\n",
       "      <td>-0.022321</td>\n",
       "      <td>-0.005421</td>\n",
       "      <td>5.0</td>\n",
       "      <td>2.0</td>\n",
       "      <td>0</td>\n",
       "    </tr>\n",
       "    <tr>\n",
       "      <th>1</th>\n",
       "      <td>0.551339</td>\n",
       "      <td>0.024900</td>\n",
       "      <td>0.551339</td>\n",
       "      <td>0.453125</td>\n",
       "      <td>-0.029018</td>\n",
       "      <td>-0.013074</td>\n",
       "      <td>6.0</td>\n",
       "      <td>1.0</td>\n",
       "      <td>0</td>\n",
       "    </tr>\n",
       "    <tr>\n",
       "      <th>2</th>\n",
       "      <td>0.580357</td>\n",
       "      <td>0.026211</td>\n",
       "      <td>0.580357</td>\n",
       "      <td>0.453125</td>\n",
       "      <td>-0.053572</td>\n",
       "      <td>-0.025829</td>\n",
       "      <td>7.0</td>\n",
       "      <td>0.0</td>\n",
       "      <td>0</td>\n",
       "    </tr>\n",
       "    <tr>\n",
       "      <th>3</th>\n",
       "      <td>0.633929</td>\n",
       "      <td>0.028630</td>\n",
       "      <td>0.633929</td>\n",
       "      <td>0.462054</td>\n",
       "      <td>-0.008928</td>\n",
       "      <td>-0.025829</td>\n",
       "      <td>7.0</td>\n",
       "      <td>0.0</td>\n",
       "      <td>0</td>\n",
       "    </tr>\n",
       "    <tr>\n",
       "      <th>4</th>\n",
       "      <td>0.642857</td>\n",
       "      <td>0.029033</td>\n",
       "      <td>0.642857</td>\n",
       "      <td>0.475446</td>\n",
       "      <td>0.013393</td>\n",
       "      <td>-0.022003</td>\n",
       "      <td>6.0</td>\n",
       "      <td>1.0</td>\n",
       "      <td>0</td>\n",
       "    </tr>\n",
       "  </tbody>\n",
       "</table>\n",
       "</div>"
      ],
      "text/plain": [
       "       Open  Adj Close     Max 7     Min 7    Change  Mean Change 7  Drop 7  \\\n",
       "0  0.529018   0.023892  0.529018  0.453125 -0.022321      -0.005421     5.0   \n",
       "1  0.551339   0.024900  0.551339  0.453125 -0.029018      -0.013074     6.0   \n",
       "2  0.580357   0.026211  0.580357  0.453125 -0.053572      -0.025829     7.0   \n",
       "3  0.633929   0.028630  0.633929  0.462054 -0.008928      -0.025829     7.0   \n",
       "4  0.642857   0.029033  0.642857  0.475446  0.013393      -0.022003     6.0   \n",
       "\n",
       "   Up 7  Actual  \n",
       "0   2.0       0  \n",
       "1   1.0       0  \n",
       "2   0.0       0  \n",
       "3   0.0       0  \n",
       "4   1.0       0  "
      ]
     },
     "execution_count": 27,
     "metadata": {},
     "output_type": "execute_result"
    }
   ],
   "source": [
    "df2.drop(['Date', 'High', 'Low', 'Close', 'Volume', 'Open 2', 'Predict', 'Prediction'], axis=1, inplace=True)\n",
    "df2.head()"
   ]
  },
  {
   "cell_type": "code",
   "execution_count": 28,
   "metadata": {},
   "outputs": [
    {
     "data": {
      "text/html": [
       "<div>\n",
       "<style scoped>\n",
       "    .dataframe tbody tr th:only-of-type {\n",
       "        vertical-align: middle;\n",
       "    }\n",
       "\n",
       "    .dataframe tbody tr th {\n",
       "        vertical-align: top;\n",
       "    }\n",
       "\n",
       "    .dataframe thead th {\n",
       "        text-align: right;\n",
       "    }\n",
       "</style>\n",
       "<table border=\"1\" class=\"dataframe\">\n",
       "  <thead>\n",
       "    <tr style=\"text-align: right;\">\n",
       "      <th></th>\n",
       "      <th>Open</th>\n",
       "      <th>Max 7</th>\n",
       "      <th>Min 7</th>\n",
       "      <th>Change</th>\n",
       "      <th>Mean Change 7</th>\n",
       "      <th>Drop 7</th>\n",
       "      <th>Up 7</th>\n",
       "      <th>Actual</th>\n",
       "    </tr>\n",
       "  </thead>\n",
       "  <tbody>\n",
       "    <tr>\n",
       "      <th>0</th>\n",
       "      <td>0.529018</td>\n",
       "      <td>0.529018</td>\n",
       "      <td>0.453125</td>\n",
       "      <td>-0.022321</td>\n",
       "      <td>-0.005421</td>\n",
       "      <td>5.0</td>\n",
       "      <td>2.0</td>\n",
       "      <td>0</td>\n",
       "    </tr>\n",
       "    <tr>\n",
       "      <th>1</th>\n",
       "      <td>0.551339</td>\n",
       "      <td>0.551339</td>\n",
       "      <td>0.453125</td>\n",
       "      <td>-0.029018</td>\n",
       "      <td>-0.013074</td>\n",
       "      <td>6.0</td>\n",
       "      <td>1.0</td>\n",
       "      <td>0</td>\n",
       "    </tr>\n",
       "    <tr>\n",
       "      <th>2</th>\n",
       "      <td>0.580357</td>\n",
       "      <td>0.580357</td>\n",
       "      <td>0.453125</td>\n",
       "      <td>-0.053572</td>\n",
       "      <td>-0.025829</td>\n",
       "      <td>7.0</td>\n",
       "      <td>0.0</td>\n",
       "      <td>0</td>\n",
       "    </tr>\n",
       "    <tr>\n",
       "      <th>3</th>\n",
       "      <td>0.633929</td>\n",
       "      <td>0.633929</td>\n",
       "      <td>0.462054</td>\n",
       "      <td>-0.008928</td>\n",
       "      <td>-0.025829</td>\n",
       "      <td>7.0</td>\n",
       "      <td>0.0</td>\n",
       "      <td>0</td>\n",
       "    </tr>\n",
       "    <tr>\n",
       "      <th>4</th>\n",
       "      <td>0.642857</td>\n",
       "      <td>0.642857</td>\n",
       "      <td>0.475446</td>\n",
       "      <td>0.013393</td>\n",
       "      <td>-0.022003</td>\n",
       "      <td>6.0</td>\n",
       "      <td>1.0</td>\n",
       "      <td>0</td>\n",
       "    </tr>\n",
       "  </tbody>\n",
       "</table>\n",
       "</div>"
      ],
      "text/plain": [
       "       Open     Max 7     Min 7    Change  Mean Change 7  Drop 7  Up 7  Actual\n",
       "0  0.529018  0.529018  0.453125 -0.022321      -0.005421     5.0   2.0       0\n",
       "1  0.551339  0.551339  0.453125 -0.029018      -0.013074     6.0   1.0       0\n",
       "2  0.580357  0.580357  0.453125 -0.053572      -0.025829     7.0   0.0       0\n",
       "3  0.633929  0.633929  0.462054 -0.008928      -0.025829     7.0   0.0       0\n",
       "4  0.642857  0.642857  0.475446  0.013393      -0.022003     6.0   1.0       0"
      ]
     },
     "execution_count": 28,
     "metadata": {},
     "output_type": "execute_result"
    }
   ],
   "source": [
    "df2.drop('Adj Close', axis=1, inplace=True)\n",
    "df2.head()"
   ]
  },
  {
   "cell_type": "code",
   "execution_count": 29,
   "metadata": {},
   "outputs": [],
   "source": [
    "X,y = to_xy(df2,\"Actual\")"
   ]
  },
  {
   "cell_type": "code",
   "execution_count": 30,
   "metadata": {},
   "outputs": [],
   "source": [
    "pred = model.predict(X)"
   ]
  },
  {
   "cell_type": "code",
   "execution_count": 31,
   "metadata": {},
   "outputs": [
    {
     "name": "stdout",
     "output_type": "stream",
     "text": [
      "Shape: (9482, 2)\n",
      "[[1.0681312e-01 8.9318693e-01]\n",
      " [9.7697126e-03 9.9023026e-01]\n",
      " [3.7294952e-04 9.9962699e-01]\n",
      " ...\n",
      " [2.0548971e-02 9.7945100e-01]\n",
      " [1.0000000e+00 7.5739170e-10]\n",
      " [1.5206547e-02 9.8479337e-01]]\n"
     ]
    }
   ],
   "source": [
    "print(\"Shape: {}\".format(pred.shape))\n",
    "print(pred)"
   ]
  },
  {
   "cell_type": "code",
   "execution_count": 32,
   "metadata": {},
   "outputs": [
    {
     "name": "stdout",
     "output_type": "stream",
     "text": [
      "Predictions: [1 1 1 ... 1 0 1]\n",
      "Expected: [0 0 0 ... 1 0 1]\n"
     ]
    }
   ],
   "source": [
    "predict_classes = np.argmax(pred,axis=1)\n",
    "print(\"Predictions: {}\".format(predict_classes))\n",
    "print(\"Expected: {}\".format(np.argmax(y, axis=1)))\n",
    "y_arg = np.argmax(y, axis=1)"
   ]
  },
  {
   "cell_type": "code",
   "execution_count": 33,
   "metadata": {},
   "outputs": [
    {
     "name": "stdout",
     "output_type": "stream",
     "text": [
      "Accuracy: 0.4586585108626872\n"
     ]
    }
   ],
   "source": [
    "correct = accuracy_score(y_arg,predict_classes)\n",
    "print(\"Accuracy: {}\".format(correct))"
   ]
  },
  {
   "cell_type": "code",
   "execution_count": 34,
   "metadata": {},
   "outputs": [],
   "source": [
    "X_train, X_test, y_train, y_test = train_test_split(X, y, test_size=0.20)"
   ]
  },
  {
   "cell_type": "code",
   "execution_count": 41,
   "metadata": {},
   "outputs": [
    {
     "data": {
      "text/html": [
       "<div>\n",
       "<style scoped>\n",
       "    .dataframe tbody tr th:only-of-type {\n",
       "        vertical-align: middle;\n",
       "    }\n",
       "\n",
       "    .dataframe tbody tr th {\n",
       "        vertical-align: top;\n",
       "    }\n",
       "\n",
       "    .dataframe thead th {\n",
       "        text-align: right;\n",
       "    }\n",
       "</style>\n",
       "<table border=\"1\" class=\"dataframe\">\n",
       "  <thead>\n",
       "    <tr style=\"text-align: right;\">\n",
       "      <th></th>\n",
       "      <th>Date</th>\n",
       "      <th>Open</th>\n",
       "      <th>High</th>\n",
       "      <th>Low</th>\n",
       "      <th>Close</th>\n",
       "      <th>Adj Close</th>\n",
       "      <th>Volume</th>\n",
       "      <th>Open 2</th>\n",
       "      <th>Max 7</th>\n",
       "      <th>Min 7</th>\n",
       "      <th>Change</th>\n",
       "      <th>Mean Change 7</th>\n",
       "      <th>Drop 7</th>\n",
       "      <th>Up 7</th>\n",
       "      <th>Predict</th>\n",
       "      <th>Prediction</th>\n",
       "      <th>Actual</th>\n",
       "    </tr>\n",
       "  </thead>\n",
       "  <tbody>\n",
       "    <tr>\n",
       "      <th>0</th>\n",
       "      <td>1997-05-23</td>\n",
       "      <td>1.406250</td>\n",
       "      <td>1.520833</td>\n",
       "      <td>1.333333</td>\n",
       "      <td>1.500000</td>\n",
       "      <td>1.500000</td>\n",
       "      <td>15937200</td>\n",
       "      <td>1.510417</td>\n",
       "      <td>2.437500</td>\n",
       "      <td>1.40625</td>\n",
       "      <td>-0.104167</td>\n",
       "      <td>0.132440</td>\n",
       "      <td>1.0</td>\n",
       "      <td>6.0</td>\n",
       "      <td>-1.0</td>\n",
       "      <td>0</td>\n",
       "      <td>1</td>\n",
       "    </tr>\n",
       "    <tr>\n",
       "      <th>1</th>\n",
       "      <td>1997-05-27</td>\n",
       "      <td>1.510417</td>\n",
       "      <td>1.645833</td>\n",
       "      <td>1.458333</td>\n",
       "      <td>1.583333</td>\n",
       "      <td>1.583333</td>\n",
       "      <td>8697600</td>\n",
       "      <td>1.625000</td>\n",
       "      <td>1.968750</td>\n",
       "      <td>1.40625</td>\n",
       "      <td>-0.114583</td>\n",
       "      <td>0.049107</td>\n",
       "      <td>2.0</td>\n",
       "      <td>5.0</td>\n",
       "      <td>-1.0</td>\n",
       "      <td>0</td>\n",
       "      <td>1</td>\n",
       "    </tr>\n",
       "    <tr>\n",
       "      <th>2</th>\n",
       "      <td>1997-05-28</td>\n",
       "      <td>1.625000</td>\n",
       "      <td>1.635417</td>\n",
       "      <td>1.531250</td>\n",
       "      <td>1.531250</td>\n",
       "      <td>1.531250</td>\n",
       "      <td>4574400</td>\n",
       "      <td>1.541667</td>\n",
       "      <td>1.760417</td>\n",
       "      <td>1.40625</td>\n",
       "      <td>0.083333</td>\n",
       "      <td>0.031250</td>\n",
       "      <td>2.0</td>\n",
       "      <td>5.0</td>\n",
       "      <td>1.0</td>\n",
       "      <td>1</td>\n",
       "      <td>0</td>\n",
       "    </tr>\n",
       "    <tr>\n",
       "      <th>3</th>\n",
       "      <td>1997-05-29</td>\n",
       "      <td>1.541667</td>\n",
       "      <td>1.541667</td>\n",
       "      <td>1.479167</td>\n",
       "      <td>1.505208</td>\n",
       "      <td>1.505208</td>\n",
       "      <td>3472800</td>\n",
       "      <td>1.500000</td>\n",
       "      <td>1.729167</td>\n",
       "      <td>1.40625</td>\n",
       "      <td>0.041667</td>\n",
       "      <td>0.032738</td>\n",
       "      <td>2.0</td>\n",
       "      <td>5.0</td>\n",
       "      <td>1.0</td>\n",
       "      <td>1</td>\n",
       "      <td>0</td>\n",
       "    </tr>\n",
       "    <tr>\n",
       "      <th>4</th>\n",
       "      <td>1997-05-30</td>\n",
       "      <td>1.500000</td>\n",
       "      <td>1.510417</td>\n",
       "      <td>1.479167</td>\n",
       "      <td>1.500000</td>\n",
       "      <td>1.500000</td>\n",
       "      <td>2594400</td>\n",
       "      <td>1.510417</td>\n",
       "      <td>1.635417</td>\n",
       "      <td>1.40625</td>\n",
       "      <td>-0.010417</td>\n",
       "      <td>0.017857</td>\n",
       "      <td>3.0</td>\n",
       "      <td>4.0</td>\n",
       "      <td>-1.0</td>\n",
       "      <td>0</td>\n",
       "      <td>1</td>\n",
       "    </tr>\n",
       "  </tbody>\n",
       "</table>\n",
       "</div>"
      ],
      "text/plain": [
       "         Date      Open      High       Low     Close  Adj Close    Volume  \\\n",
       "0  1997-05-23  1.406250  1.520833  1.333333  1.500000   1.500000  15937200   \n",
       "1  1997-05-27  1.510417  1.645833  1.458333  1.583333   1.583333   8697600   \n",
       "2  1997-05-28  1.625000  1.635417  1.531250  1.531250   1.531250   4574400   \n",
       "3  1997-05-29  1.541667  1.541667  1.479167  1.505208   1.505208   3472800   \n",
       "4  1997-05-30  1.500000  1.510417  1.479167  1.500000   1.500000   2594400   \n",
       "\n",
       "     Open 2     Max 7    Min 7    Change  Mean Change 7  Drop 7  Up 7  \\\n",
       "0  1.510417  2.437500  1.40625 -0.104167       0.132440     1.0   6.0   \n",
       "1  1.625000  1.968750  1.40625 -0.114583       0.049107     2.0   5.0   \n",
       "2  1.541667  1.760417  1.40625  0.083333       0.031250     2.0   5.0   \n",
       "3  1.500000  1.729167  1.40625  0.041667       0.032738     2.0   5.0   \n",
       "4  1.510417  1.635417  1.40625 -0.010417       0.017857     3.0   4.0   \n",
       "\n",
       "   Predict  Prediction  Actual  \n",
       "0     -1.0           0       1  \n",
       "1     -1.0           0       1  \n",
       "2      1.0           1       0  \n",
       "3      1.0           1       0  \n",
       "4     -1.0           0       1  "
      ]
     },
     "execution_count": 41,
     "metadata": {},
     "output_type": "execute_result"
    }
   ],
   "source": [
    "df3 = pd.read_csv('data/AMZN-edited2.csv')\n",
    "df3.head()"
   ]
  },
  {
   "cell_type": "code",
   "execution_count": 44,
   "metadata": {},
   "outputs": [
    {
     "data": {
      "text/html": [
       "<div>\n",
       "<style scoped>\n",
       "    .dataframe tbody tr th:only-of-type {\n",
       "        vertical-align: middle;\n",
       "    }\n",
       "\n",
       "    .dataframe tbody tr th {\n",
       "        vertical-align: top;\n",
       "    }\n",
       "\n",
       "    .dataframe thead th {\n",
       "        text-align: right;\n",
       "    }\n",
       "</style>\n",
       "<table border=\"1\" class=\"dataframe\">\n",
       "  <thead>\n",
       "    <tr style=\"text-align: right;\">\n",
       "      <th></th>\n",
       "      <th>Open</th>\n",
       "      <th>Adj Close</th>\n",
       "      <th>Max 7</th>\n",
       "      <th>Min 7</th>\n",
       "      <th>Change</th>\n",
       "      <th>Mean Change 7</th>\n",
       "      <th>Drop 7</th>\n",
       "      <th>Up 7</th>\n",
       "      <th>Actual</th>\n",
       "    </tr>\n",
       "  </thead>\n",
       "  <tbody>\n",
       "    <tr>\n",
       "      <th>0</th>\n",
       "      <td>1.406250</td>\n",
       "      <td>1.500000</td>\n",
       "      <td>2.437500</td>\n",
       "      <td>1.40625</td>\n",
       "      <td>-0.104167</td>\n",
       "      <td>0.132440</td>\n",
       "      <td>1.0</td>\n",
       "      <td>6.0</td>\n",
       "      <td>1</td>\n",
       "    </tr>\n",
       "    <tr>\n",
       "      <th>1</th>\n",
       "      <td>1.510417</td>\n",
       "      <td>1.583333</td>\n",
       "      <td>1.968750</td>\n",
       "      <td>1.40625</td>\n",
       "      <td>-0.114583</td>\n",
       "      <td>0.049107</td>\n",
       "      <td>2.0</td>\n",
       "      <td>5.0</td>\n",
       "      <td>1</td>\n",
       "    </tr>\n",
       "    <tr>\n",
       "      <th>2</th>\n",
       "      <td>1.625000</td>\n",
       "      <td>1.531250</td>\n",
       "      <td>1.760417</td>\n",
       "      <td>1.40625</td>\n",
       "      <td>0.083333</td>\n",
       "      <td>0.031250</td>\n",
       "      <td>2.0</td>\n",
       "      <td>5.0</td>\n",
       "      <td>0</td>\n",
       "    </tr>\n",
       "    <tr>\n",
       "      <th>3</th>\n",
       "      <td>1.541667</td>\n",
       "      <td>1.505208</td>\n",
       "      <td>1.729167</td>\n",
       "      <td>1.40625</td>\n",
       "      <td>0.041667</td>\n",
       "      <td>0.032738</td>\n",
       "      <td>2.0</td>\n",
       "      <td>5.0</td>\n",
       "      <td>0</td>\n",
       "    </tr>\n",
       "    <tr>\n",
       "      <th>4</th>\n",
       "      <td>1.500000</td>\n",
       "      <td>1.500000</td>\n",
       "      <td>1.635417</td>\n",
       "      <td>1.40625</td>\n",
       "      <td>-0.010417</td>\n",
       "      <td>0.017857</td>\n",
       "      <td>3.0</td>\n",
       "      <td>4.0</td>\n",
       "      <td>1</td>\n",
       "    </tr>\n",
       "  </tbody>\n",
       "</table>\n",
       "</div>"
      ],
      "text/plain": [
       "       Open  Adj Close     Max 7    Min 7    Change  Mean Change 7  Drop 7  \\\n",
       "0  1.406250   1.500000  2.437500  1.40625 -0.104167       0.132440     1.0   \n",
       "1  1.510417   1.583333  1.968750  1.40625 -0.114583       0.049107     2.0   \n",
       "2  1.625000   1.531250  1.760417  1.40625  0.083333       0.031250     2.0   \n",
       "3  1.541667   1.505208  1.729167  1.40625  0.041667       0.032738     2.0   \n",
       "4  1.500000   1.500000  1.635417  1.40625 -0.010417       0.017857     3.0   \n",
       "\n",
       "   Up 7  Actual  \n",
       "0   6.0       1  \n",
       "1   5.0       1  \n",
       "2   5.0       0  \n",
       "3   5.0       0  \n",
       "4   4.0       1  "
      ]
     },
     "execution_count": 44,
     "metadata": {},
     "output_type": "execute_result"
    }
   ],
   "source": [
    "df3.drop(['Date', 'High', 'Low', 'Close', 'Volume', 'Open 2', 'Predict', 'Prediction'], axis=1, inplace=True)\n",
    "df3.head()"
   ]
  },
  {
   "cell_type": "code",
   "execution_count": 45,
   "metadata": {},
   "outputs": [
    {
     "data": {
      "text/html": [
       "<div>\n",
       "<style scoped>\n",
       "    .dataframe tbody tr th:only-of-type {\n",
       "        vertical-align: middle;\n",
       "    }\n",
       "\n",
       "    .dataframe tbody tr th {\n",
       "        vertical-align: top;\n",
       "    }\n",
       "\n",
       "    .dataframe thead th {\n",
       "        text-align: right;\n",
       "    }\n",
       "</style>\n",
       "<table border=\"1\" class=\"dataframe\">\n",
       "  <thead>\n",
       "    <tr style=\"text-align: right;\">\n",
       "      <th></th>\n",
       "      <th>Open</th>\n",
       "      <th>Max 7</th>\n",
       "      <th>Min 7</th>\n",
       "      <th>Change</th>\n",
       "      <th>Mean Change 7</th>\n",
       "      <th>Drop 7</th>\n",
       "      <th>Up 7</th>\n",
       "      <th>Actual</th>\n",
       "    </tr>\n",
       "  </thead>\n",
       "  <tbody>\n",
       "    <tr>\n",
       "      <th>0</th>\n",
       "      <td>1.406250</td>\n",
       "      <td>2.437500</td>\n",
       "      <td>1.40625</td>\n",
       "      <td>-0.104167</td>\n",
       "      <td>0.132440</td>\n",
       "      <td>1.0</td>\n",
       "      <td>6.0</td>\n",
       "      <td>1</td>\n",
       "    </tr>\n",
       "    <tr>\n",
       "      <th>1</th>\n",
       "      <td>1.510417</td>\n",
       "      <td>1.968750</td>\n",
       "      <td>1.40625</td>\n",
       "      <td>-0.114583</td>\n",
       "      <td>0.049107</td>\n",
       "      <td>2.0</td>\n",
       "      <td>5.0</td>\n",
       "      <td>1</td>\n",
       "    </tr>\n",
       "    <tr>\n",
       "      <th>2</th>\n",
       "      <td>1.625000</td>\n",
       "      <td>1.760417</td>\n",
       "      <td>1.40625</td>\n",
       "      <td>0.083333</td>\n",
       "      <td>0.031250</td>\n",
       "      <td>2.0</td>\n",
       "      <td>5.0</td>\n",
       "      <td>0</td>\n",
       "    </tr>\n",
       "    <tr>\n",
       "      <th>3</th>\n",
       "      <td>1.541667</td>\n",
       "      <td>1.729167</td>\n",
       "      <td>1.40625</td>\n",
       "      <td>0.041667</td>\n",
       "      <td>0.032738</td>\n",
       "      <td>2.0</td>\n",
       "      <td>5.0</td>\n",
       "      <td>0</td>\n",
       "    </tr>\n",
       "    <tr>\n",
       "      <th>4</th>\n",
       "      <td>1.500000</td>\n",
       "      <td>1.635417</td>\n",
       "      <td>1.40625</td>\n",
       "      <td>-0.010417</td>\n",
       "      <td>0.017857</td>\n",
       "      <td>3.0</td>\n",
       "      <td>4.0</td>\n",
       "      <td>1</td>\n",
       "    </tr>\n",
       "  </tbody>\n",
       "</table>\n",
       "</div>"
      ],
      "text/plain": [
       "       Open     Max 7    Min 7    Change  Mean Change 7  Drop 7  Up 7  Actual\n",
       "0  1.406250  2.437500  1.40625 -0.104167       0.132440     1.0   6.0       1\n",
       "1  1.510417  1.968750  1.40625 -0.114583       0.049107     2.0   5.0       1\n",
       "2  1.625000  1.760417  1.40625  0.083333       0.031250     2.0   5.0       0\n",
       "3  1.541667  1.729167  1.40625  0.041667       0.032738     2.0   5.0       0\n",
       "4  1.500000  1.635417  1.40625 -0.010417       0.017857     3.0   4.0       1"
      ]
     },
     "execution_count": 45,
     "metadata": {},
     "output_type": "execute_result"
    }
   ],
   "source": [
    "df3.drop('Adj Close', axis=1, inplace=True)\n",
    "df3.head()"
   ]
  },
  {
   "cell_type": "code",
   "execution_count": 46,
   "metadata": {},
   "outputs": [],
   "source": [
    "X,y = to_xy(df3,\"Actual\")"
   ]
  },
  {
   "cell_type": "code",
   "execution_count": 47,
   "metadata": {},
   "outputs": [],
   "source": [
    "pred = model.predict(X)"
   ]
  },
  {
   "cell_type": "code",
   "execution_count": 48,
   "metadata": {},
   "outputs": [
    {
     "name": "stdout",
     "output_type": "stream",
     "text": [
      "Shape: (5338, 2)\n",
      "[[1.0000000e+00 1.5524682e-15]\n",
      " [1.0000000e+00 3.7028439e-15]\n",
      " [1.0000000e+00 3.7310315e-15]\n",
      " ...\n",
      " [1.0000000e+00 0.0000000e+00]\n",
      " [1.0000000e+00 0.0000000e+00]\n",
      " [1.0000000e+00 0.0000000e+00]]\n"
     ]
    }
   ],
   "source": [
    "print(\"Shape: {}\".format(pred.shape))\n",
    "print(pred)"
   ]
  },
  {
   "cell_type": "code",
   "execution_count": 49,
   "metadata": {},
   "outputs": [
    {
     "name": "stdout",
     "output_type": "stream",
     "text": [
      "Predictions: [0 0 0 ... 0 0 0]\n",
      "Expected: [1 1 0 ... 1 1 1]\n"
     ]
    }
   ],
   "source": [
    "predict_classes = np.argmax(pred,axis=1)\n",
    "print(\"Predictions: {}\".format(predict_classes))\n",
    "print(\"Expected: {}\".format(np.argmax(y, axis=1)))\n",
    "y_arg = np.argmax(y, axis=1)"
   ]
  },
  {
   "cell_type": "code",
   "execution_count": 51,
   "metadata": {},
   "outputs": [
    {
     "name": "stdout",
     "output_type": "stream",
     "text": [
      "Accuracy: 0.4915698763581866\n"
     ]
    }
   ],
   "source": [
    "correct = accuracy_score(y_arg,predict_classes)\n",
    "print(\"Accuracy: {}\".format(correct))"
   ]
  },
  {
   "cell_type": "code",
   "execution_count": 52,
   "metadata": {},
   "outputs": [],
   "source": [
    "X_train, X_test, y_train, y_test = train_test_split(X, y, test_size=0.20)"
   ]
  },
  {
   "cell_type": "code",
   "execution_count": 55,
   "metadata": {},
   "outputs": [],
   "source": [
    "pred = model.predict(X_test)"
   ]
  },
  {
   "cell_type": "code",
   "execution_count": 56,
   "metadata": {},
   "outputs": [
    {
     "name": "stdout",
     "output_type": "stream",
     "text": [
      "Shape: (1068, 2)\n",
      "[[0.02138185 0.97861814]\n",
      " [0.06013276 0.9398672 ]\n",
      " [0.9651549  0.03484509]\n",
      " ...\n",
      " [0.68149775 0.31850228]\n",
      " [0.0352194  0.96478057]\n",
      " [0.98764116 0.01235883]]\n"
     ]
    }
   ],
   "source": [
    "print(\"Shape: {}\".format(pred.shape))\n",
    "print(pred)"
   ]
  },
  {
   "cell_type": "code",
   "execution_count": 57,
   "metadata": {},
   "outputs": [
    {
     "name": "stdout",
     "output_type": "stream",
     "text": [
      "Predictions: [1 1 0 ... 0 1 0]\n",
      "Expected: [1 1 0 ... 0 1 0]\n"
     ]
    }
   ],
   "source": [
    "predict_classes = np.argmax(pred,axis=1)\n",
    "print(\"Predictions: {}\".format(predict_classes))\n",
    "print(\"Expected: {}\".format(np.argmax(y_test, axis=1)))\n",
    "y_arg = np.argmax(y_test, axis=1)"
   ]
  },
  {
   "cell_type": "code",
   "execution_count": 58,
   "metadata": {},
   "outputs": [
    {
     "name": "stdout",
     "output_type": "stream",
     "text": [
      "Accuracy: 0.852996254681648\n"
     ]
    }
   ],
   "source": [
    "correct = accuracy_score(y_arg,predict_classes)\n",
    "print(\"Accuracy: {}\".format(correct))"
   ]
  },
  {
   "cell_type": "code",
   "execution_count": null,
   "metadata": {},
   "outputs": [],
   "source": []
  },
  {
   "cell_type": "code",
   "execution_count": null,
   "metadata": {},
   "outputs": [],
   "source": []
  }
 ],
 "metadata": {
  "kernelspec": {
   "display_name": "Python 3",
   "language": "python",
   "name": "python3"
  },
  "language_info": {
   "codemirror_mode": {
    "name": "ipython",
    "version": 3
   },
   "file_extension": ".py",
   "mimetype": "text/x-python",
   "name": "python",
   "nbconvert_exporter": "python",
   "pygments_lexer": "ipython3",
   "version": "3.6.7"
  }
 },
 "nbformat": 4,
 "nbformat_minor": 2
}
