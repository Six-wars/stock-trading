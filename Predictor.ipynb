{
 "cells": [
  {
   "cell_type": "code",
   "execution_count": 1,
   "metadata": {},
   "outputs": [
    {
     "name": "stderr",
     "output_type": "stream",
     "text": [
      "Using TensorFlow backend.\n"
     ]
    }
   ],
   "source": [
    "import keras\n",
    "from keras import layers\n",
    "from keras.layers.core import Dense, Activation\n",
    "from keras.models import Sequential\n",
    "from keras.callbacks import EarlyStopping\n",
    "from keras.callbacks import ModelCheckpoint\n",
    "\n",
    "import pandas as pd\n",
    "\n",
    "from sklearn.model_selection import train_test_split\n",
    "\n",
    "import numpy as np\n",
    "\n",
    "from sklearn.metrics import accuracy_score\n",
    "\n",
    "from keras.layers import LSTM\n",
    "from sklearn import preprocessing\n",
    "\n",
    "from sklearn.ensemble import RandomForestClassifier"
   ]
  },
  {
   "cell_type": "code",
   "execution_count": 2,
   "metadata": {},
   "outputs": [],
   "source": [
    "# Convert a Pandas dataframe to the x,y inputs that TensorFlow needs\n",
    "def to_xy(df, target):\n",
    "    result = []\n",
    "    for x in df.columns:\n",
    "        if x != target:\n",
    "            result.append(x)\n",
    "    # find out the type of the target column.  Is it really this hard? :(\n",
    "    target_type = df[target].dtypes\n",
    "    target_type = target_type[0] if hasattr(target_type, '__iter__') else target_type\n",
    "    # Encode to int for classification, float otherwise. TensorFlow likes 32 bits.\n",
    "    if target_type in (np.int64, np.int32):\n",
    "        # Classification\n",
    "        dummies = pd.get_dummies(df[target])\n",
    "        return df.as_matrix(result).astype(np.float32), dummies.as_matrix().astype(np.float32)\n",
    "    else:\n",
    "        # Regression\n",
    "        return df.as_matrix(result).astype(np.float32), df.as_matrix([target]).astype(np.float32)\n",
    "    \n",
    "# Encode text values to indexes(i.e. [1],[2],[3] for red,green,blue).\n",
    "def encode_text_index(df, name):\n",
    "    le = preprocessing.LabelEncoder()\n",
    "    df[name] = le.fit_transform(df[name])\n",
    "    return le.classes_"
   ]
  },
  {
   "cell_type": "code",
   "execution_count": 3,
   "metadata": {},
   "outputs": [
    {
     "data": {
      "text/html": [
       "<div>\n",
       "<style scoped>\n",
       "    .dataframe tbody tr th:only-of-type {\n",
       "        vertical-align: middle;\n",
       "    }\n",
       "\n",
       "    .dataframe tbody tr th {\n",
       "        vertical-align: top;\n",
       "    }\n",
       "\n",
       "    .dataframe thead th {\n",
       "        text-align: right;\n",
       "    }\n",
       "</style>\n",
       "<table border=\"1\" class=\"dataframe\">\n",
       "  <thead>\n",
       "    <tr style=\"text-align: right;\">\n",
       "      <th></th>\n",
       "      <th>Date</th>\n",
       "      <th>Value USD</th>\n",
       "      <th>Max 7</th>\n",
       "      <th>Min 7</th>\n",
       "      <th>Mean 7</th>\n",
       "      <th>Change</th>\n",
       "      <th>Mean Change 7</th>\n",
       "      <th>Drop 7</th>\n",
       "      <th>Up 7</th>\n",
       "      <th>Predict</th>\n",
       "      <th>Actual</th>\n",
       "    </tr>\n",
       "  </thead>\n",
       "  <tbody>\n",
       "    <tr>\n",
       "      <th>0</th>\n",
       "      <td>2010-07-22</td>\n",
       "      <td>0.06262</td>\n",
       "      <td>0.08584</td>\n",
       "      <td>0.04951</td>\n",
       "      <td>0.069031</td>\n",
       "      <td>0.00808</td>\n",
       "      <td>-0.000719</td>\n",
       "      <td>3.0</td>\n",
       "      <td>4.0</td>\n",
       "      <td>-1.0</td>\n",
       "      <td>0</td>\n",
       "    </tr>\n",
       "    <tr>\n",
       "      <th>1</th>\n",
       "      <td>2010-07-23</td>\n",
       "      <td>0.05454</td>\n",
       "      <td>0.08584</td>\n",
       "      <td>0.05050</td>\n",
       "      <td>0.069750</td>\n",
       "      <td>0.00404</td>\n",
       "      <td>0.005049</td>\n",
       "      <td>2.0</td>\n",
       "      <td>5.0</td>\n",
       "      <td>2.0</td>\n",
       "      <td>0</td>\n",
       "    </tr>\n",
       "    <tr>\n",
       "      <th>2</th>\n",
       "      <td>2010-07-24</td>\n",
       "      <td>0.05050</td>\n",
       "      <td>0.08080</td>\n",
       "      <td>0.05050</td>\n",
       "      <td>0.064701</td>\n",
       "      <td>-0.00550</td>\n",
       "      <td>0.003543</td>\n",
       "      <td>3.0</td>\n",
       "      <td>4.0</td>\n",
       "      <td>-1.0</td>\n",
       "      <td>1</td>\n",
       "    </tr>\n",
       "    <tr>\n",
       "      <th>3</th>\n",
       "      <td>2010-07-25</td>\n",
       "      <td>0.05600</td>\n",
       "      <td>0.07921</td>\n",
       "      <td>0.05050</td>\n",
       "      <td>0.061159</td>\n",
       "      <td>-0.00400</td>\n",
       "      <td>0.002106</td>\n",
       "      <td>4.0</td>\n",
       "      <td>3.0</td>\n",
       "      <td>-2.0</td>\n",
       "      <td>1</td>\n",
       "    </tr>\n",
       "    <tr>\n",
       "      <th>4</th>\n",
       "      <td>2010-07-26</td>\n",
       "      <td>0.06000</td>\n",
       "      <td>0.07921</td>\n",
       "      <td>0.05050</td>\n",
       "      <td>0.059053</td>\n",
       "      <td>0.00110</td>\n",
       "      <td>0.002901</td>\n",
       "      <td>3.0</td>\n",
       "      <td>4.0</td>\n",
       "      <td>2.0</td>\n",
       "      <td>0</td>\n",
       "    </tr>\n",
       "  </tbody>\n",
       "</table>\n",
       "</div>"
      ],
      "text/plain": [
       "         Date  Value USD    Max 7    Min 7    Mean 7   Change  Mean Change 7  \\\n",
       "0  2010-07-22    0.06262  0.08584  0.04951  0.069031  0.00808      -0.000719   \n",
       "1  2010-07-23    0.05454  0.08584  0.05050  0.069750  0.00404       0.005049   \n",
       "2  2010-07-24    0.05050  0.08080  0.05050  0.064701 -0.00550       0.003543   \n",
       "3  2010-07-25    0.05600  0.07921  0.05050  0.061159 -0.00400       0.002106   \n",
       "4  2010-07-26    0.06000  0.07921  0.05050  0.059053  0.00110       0.002901   \n",
       "\n",
       "   Drop 7  Up 7  Predict  Actual  \n",
       "0     3.0   4.0     -1.0       0  \n",
       "1     2.0   5.0      2.0       0  \n",
       "2     3.0   4.0     -1.0       1  \n",
       "3     4.0   3.0     -2.0       1  \n",
       "4     3.0   4.0      2.0       0  "
      ]
     },
     "execution_count": 3,
     "metadata": {},
     "output_type": "execute_result"
    }
   ],
   "source": [
    "df = pd.read_csv('data/BTC-USD-edited.csv')\n",
    "df.head()"
   ]
  },
  {
   "cell_type": "code",
   "execution_count": 4,
   "metadata": {},
   "outputs": [
    {
     "data": {
      "text/html": [
       "<div>\n",
       "<style scoped>\n",
       "    .dataframe tbody tr th:only-of-type {\n",
       "        vertical-align: middle;\n",
       "    }\n",
       "\n",
       "    .dataframe tbody tr th {\n",
       "        vertical-align: top;\n",
       "    }\n",
       "\n",
       "    .dataframe thead th {\n",
       "        text-align: right;\n",
       "    }\n",
       "</style>\n",
       "<table border=\"1\" class=\"dataframe\">\n",
       "  <thead>\n",
       "    <tr style=\"text-align: right;\">\n",
       "      <th></th>\n",
       "      <th>Date</th>\n",
       "      <th>Value USD</th>\n",
       "      <th>Max 7</th>\n",
       "      <th>Min 7</th>\n",
       "      <th>Mean 7</th>\n",
       "      <th>Change</th>\n",
       "      <th>Mean Change 7</th>\n",
       "      <th>Drop 7</th>\n",
       "      <th>Up 7</th>\n",
       "      <th>Predict</th>\n",
       "      <th>Actual</th>\n",
       "    </tr>\n",
       "  </thead>\n",
       "  <tbody>\n",
       "    <tr>\n",
       "      <th>2947</th>\n",
       "      <td>2018-08-16</td>\n",
       "      <td>6591.160156</td>\n",
       "      <td>6591.160156</td>\n",
       "      <td>6091.140137</td>\n",
       "      <td>6262.038714</td>\n",
       "      <td>185.450195</td>\n",
       "      <td>-44.938546</td>\n",
       "      <td>4.0</td>\n",
       "      <td>2.0</td>\n",
       "      <td>0.0</td>\n",
       "      <td>0</td>\n",
       "    </tr>\n",
       "    <tr>\n",
       "      <th>2948</th>\n",
       "      <td>2018-08-17</td>\n",
       "      <td>6405.709961</td>\n",
       "      <td>6591.160156</td>\n",
       "      <td>6091.140137</td>\n",
       "      <td>6306.977260</td>\n",
       "      <td>-96.470215</td>\n",
       "      <td>-58.720006</td>\n",
       "      <td>5.0</td>\n",
       "      <td>2.0</td>\n",
       "      <td>-2.0</td>\n",
       "      <td>1</td>\n",
       "    </tr>\n",
       "    <tr>\n",
       "      <th>2949</th>\n",
       "      <td>2018-08-18</td>\n",
       "      <td>6502.180176</td>\n",
       "      <td>6591.160156</td>\n",
       "      <td>6199.600098</td>\n",
       "      <td>6365.697266</td>\n",
       "      <td>232.280274</td>\n",
       "      <td>-0.957101</td>\n",
       "      <td>4.0</td>\n",
       "      <td>3.0</td>\n",
       "      <td>0.0</td>\n",
       "      <td>0</td>\n",
       "    </tr>\n",
       "    <tr>\n",
       "      <th>2950</th>\n",
       "      <td>2018-08-19</td>\n",
       "      <td>6269.899902</td>\n",
       "      <td>6591.160156</td>\n",
       "      <td>6199.600098</td>\n",
       "      <td>6366.654367</td>\n",
       "      <td>-221.209961</td>\n",
       "      <td>-41.644252</td>\n",
       "      <td>5.0</td>\n",
       "      <td>2.0</td>\n",
       "      <td>-2.0</td>\n",
       "      <td>1</td>\n",
       "    </tr>\n",
       "    <tr>\n",
       "      <th>2951</th>\n",
       "      <td>2018-08-20</td>\n",
       "      <td>6491.109863</td>\n",
       "      <td>6591.160156</td>\n",
       "      <td>6269.899902</td>\n",
       "      <td>6408.298619</td>\n",
       "      <td>124.979980</td>\n",
       "      <td>-13.129953</td>\n",
       "      <td>4.0</td>\n",
       "      <td>3.0</td>\n",
       "      <td>0.0</td>\n",
       "      <td>0</td>\n",
       "    </tr>\n",
       "  </tbody>\n",
       "</table>\n",
       "</div>"
      ],
      "text/plain": [
       "            Date    Value USD        Max 7        Min 7       Mean 7  \\\n",
       "2947  2018-08-16  6591.160156  6591.160156  6091.140137  6262.038714   \n",
       "2948  2018-08-17  6405.709961  6591.160156  6091.140137  6306.977260   \n",
       "2949  2018-08-18  6502.180176  6591.160156  6199.600098  6365.697266   \n",
       "2950  2018-08-19  6269.899902  6591.160156  6199.600098  6366.654367   \n",
       "2951  2018-08-20  6491.109863  6591.160156  6269.899902  6408.298619   \n",
       "\n",
       "          Change  Mean Change 7  Drop 7  Up 7  Predict  Actual  \n",
       "2947  185.450195     -44.938546     4.0   2.0      0.0       0  \n",
       "2948  -96.470215     -58.720006     5.0   2.0     -2.0       1  \n",
       "2949  232.280274      -0.957101     4.0   3.0      0.0       0  \n",
       "2950 -221.209961     -41.644252     5.0   2.0     -2.0       1  \n",
       "2951  124.979980     -13.129953     4.0   3.0      0.0       0  "
      ]
     },
     "execution_count": 4,
     "metadata": {},
     "output_type": "execute_result"
    }
   ],
   "source": [
    "df.tail()"
   ]
  },
  {
   "cell_type": "code",
   "execution_count": 5,
   "metadata": {},
   "outputs": [],
   "source": [
    "df2 = pd.read_csv('data/EOD-MSFT-edited.csv')"
   ]
  },
  {
   "cell_type": "code",
   "execution_count": 6,
   "metadata": {},
   "outputs": [],
   "source": [
    "X = df[['Value USD', 'Max 7', 'Min 7', 'Change', 'Mean Change 7', 'Drop 7', 'Up 7']].values\n",
    "y = df['Actual'].values"
   ]
  },
  {
   "cell_type": "code",
   "execution_count": 7,
   "metadata": {},
   "outputs": [],
   "source": [
    "X_train, X_test, y_train, y_test = train_test_split(X, y, test_size=0.20, random_state=42)"
   ]
  },
  {
   "cell_type": "code",
   "execution_count": 10,
   "metadata": {},
   "outputs": [
    {
     "name": "stderr",
     "output_type": "stream",
     "text": [
      "/home/sam/code/envs/data/lib/python3.6/site-packages/sklearn/ensemble/forest.py:246: FutureWarning: The default value of n_estimators will change from 10 in version 0.20 to 100 in 0.22.\n",
      "  \"10 in version 0.20 to 100 in 0.22.\", FutureWarning)\n"
     ]
    },
    {
     "data": {
      "text/plain": [
       "RandomForestClassifier(bootstrap=True, class_weight=None, criterion='gini',\n",
       "            max_depth=2, max_features='auto', max_leaf_nodes=None,\n",
       "            min_impurity_decrease=0.0, min_impurity_split=None,\n",
       "            min_samples_leaf=1, min_samples_split=2,\n",
       "            min_weight_fraction_leaf=0.0, n_estimators=10, n_jobs=None,\n",
       "            oob_score=False, random_state=0, verbose=0, warm_start=False)"
      ]
     },
     "execution_count": 10,
     "metadata": {},
     "output_type": "execute_result"
    }
   ],
   "source": [
    "clf = RandomForestClassifier(max_depth=2, random_state=0)\n",
    "clf.fit(X_train, y_train)"
   ]
  },
  {
   "cell_type": "code",
   "execution_count": 11,
   "metadata": {},
   "outputs": [
    {
     "data": {
      "text/plain": [
       "0.934010152284264"
      ]
     },
     "execution_count": 11,
     "metadata": {},
     "output_type": "execute_result"
    }
   ],
   "source": [
    "clf.score(X_test, y_test)"
   ]
  },
  {
   "cell_type": "code",
   "execution_count": 12,
   "metadata": {},
   "outputs": [],
   "source": [
    "from sklearn.externals import joblib"
   ]
  },
  {
   "cell_type": "code",
   "execution_count": 13,
   "metadata": {},
   "outputs": [
    {
     "data": {
      "text/plain": [
       "['data/bitcoin-predictor.pkl']"
      ]
     },
     "execution_count": 13,
     "metadata": {},
     "output_type": "execute_result"
    }
   ],
   "source": [
    "joblib.dump(clf, 'data/bitcoin-predictor.pkl')"
   ]
  },
  {
   "cell_type": "code",
   "execution_count": 14,
   "metadata": {},
   "outputs": [],
   "source": [
    "clf = joblib.load('data/bitcoin-predictor.pkl')"
   ]
  },
  {
   "cell_type": "code",
   "execution_count": 15,
   "metadata": {},
   "outputs": [
    {
     "data": {
      "text/plain": [
       "[0.0505, 0.08584, 0.04951, -0.01212, -0.001873, 3.0, 3.0]"
      ]
     },
     "execution_count": 15,
     "metadata": {},
     "output_type": "execute_result"
    }
   ],
   "source": [
    "[0.05050, 0.08584, 0.04951, -0.01212, -0.001873, 3.0, 3.0]"
   ]
  },
  {
   "cell_type": "code",
   "execution_count": 16,
   "metadata": {},
   "outputs": [
    {
     "data": {
      "text/plain": [
       "1"
      ]
     },
     "execution_count": 16,
     "metadata": {},
     "output_type": "execute_result"
    }
   ],
   "source": [
    "clf.predict(np.array([0.05050, 0.08584, 0.04951, -0.01212, -0.001873, 3.0, 3.0]).reshape(1, -1))[0]"
   ]
  },
  {
   "cell_type": "code",
   "execution_count": 15,
   "metadata": {},
   "outputs": [
    {
     "data": {
      "text/plain": [
       "0.934010152284264"
      ]
     },
     "execution_count": 15,
     "metadata": {},
     "output_type": "execute_result"
    }
   ],
   "source": [
    "clf.score(X_test, y_test)"
   ]
  },
  {
   "cell_type": "code",
   "execution_count": 21,
   "metadata": {},
   "outputs": [
    {
     "data": {
      "text/plain": [
       "Date             2010-08-01\n",
       "Value USD              0.06\n",
       "Max 7                0.0699\n",
       "Min 7                0.0589\n",
       "Mean 7            0.0629214\n",
       "Change                    0\n",
       "Mean Change 7             0\n",
       "Drop 7                    2\n",
       "Up 7                      4\n",
       "Predict                  -1\n",
       "Actual                    1\n",
       "Name: 10, dtype: object"
      ]
     },
     "execution_count": 21,
     "metadata": {},
     "output_type": "execute_result"
    }
   ],
   "source": [
    "df.iloc[10]"
   ]
  },
  {
   "cell_type": "code",
   "execution_count": 24,
   "metadata": {},
   "outputs": [
    {
     "data": {
      "text/plain": [
       "[0.06, 0.0699, 0.0589, 0.0, 0.0, 2.0, 4.0]"
      ]
     },
     "execution_count": 24,
     "metadata": {},
     "output_type": "execute_result"
    }
   ],
   "source": [
    "df[['Value USD', 'Max 7', 'Min 7', 'Change', 'Mean Change 7', 'Drop 7', 'Up 7']].iloc[10].to_list()"
   ]
  },
  {
   "cell_type": "code",
   "execution_count": 25,
   "metadata": {},
   "outputs": [],
   "source": [
    "X2 = df2[['Value USD', 'Max 7', 'Min 7', 'Change', 'Mean Change 7', 'Drop 7', 'Up 7']].values\n",
    "y2 = df2['Actual'].values"
   ]
  },
  {
   "cell_type": "code",
   "execution_count": 26,
   "metadata": {},
   "outputs": [
    {
     "data": {
      "text/plain": [
       "0.9616562538282494"
      ]
     },
     "execution_count": 26,
     "metadata": {},
     "output_type": "execute_result"
    }
   ],
   "source": [
    "clf.score(X2, y2)"
   ]
  },
  {
   "cell_type": "code",
   "execution_count": 27,
   "metadata": {},
   "outputs": [
    {
     "data": {
      "text/html": [
       "<div>\n",
       "<style scoped>\n",
       "    .dataframe tbody tr th:only-of-type {\n",
       "        vertical-align: middle;\n",
       "    }\n",
       "\n",
       "    .dataframe tbody tr th {\n",
       "        vertical-align: top;\n",
       "    }\n",
       "\n",
       "    .dataframe thead th {\n",
       "        text-align: right;\n",
       "    }\n",
       "</style>\n",
       "<table border=\"1\" class=\"dataframe\">\n",
       "  <thead>\n",
       "    <tr style=\"text-align: right;\">\n",
       "      <th></th>\n",
       "      <th>Value USD</th>\n",
       "      <th>Max 7</th>\n",
       "      <th>Min 7</th>\n",
       "      <th>Mean 7</th>\n",
       "      <th>Change</th>\n",
       "      <th>Mean Change 7</th>\n",
       "      <th>Drop 7</th>\n",
       "      <th>Up 7</th>\n",
       "      <th>Predict</th>\n",
       "      <th>Actual</th>\n",
       "    </tr>\n",
       "  </thead>\n",
       "  <tbody>\n",
       "    <tr>\n",
       "      <th>0</th>\n",
       "      <td>0.06262</td>\n",
       "      <td>0.08584</td>\n",
       "      <td>0.04951</td>\n",
       "      <td>0.069031</td>\n",
       "      <td>0.00808</td>\n",
       "      <td>-0.000719</td>\n",
       "      <td>3.0</td>\n",
       "      <td>4.0</td>\n",
       "      <td>-1.0</td>\n",
       "      <td>0</td>\n",
       "    </tr>\n",
       "    <tr>\n",
       "      <th>1</th>\n",
       "      <td>0.05454</td>\n",
       "      <td>0.08584</td>\n",
       "      <td>0.05050</td>\n",
       "      <td>0.069750</td>\n",
       "      <td>0.00404</td>\n",
       "      <td>0.005049</td>\n",
       "      <td>2.0</td>\n",
       "      <td>5.0</td>\n",
       "      <td>2.0</td>\n",
       "      <td>0</td>\n",
       "    </tr>\n",
       "    <tr>\n",
       "      <th>2</th>\n",
       "      <td>0.05050</td>\n",
       "      <td>0.08080</td>\n",
       "      <td>0.05050</td>\n",
       "      <td>0.064701</td>\n",
       "      <td>-0.00550</td>\n",
       "      <td>0.003543</td>\n",
       "      <td>3.0</td>\n",
       "      <td>4.0</td>\n",
       "      <td>-1.0</td>\n",
       "      <td>1</td>\n",
       "    </tr>\n",
       "    <tr>\n",
       "      <th>3</th>\n",
       "      <td>0.05600</td>\n",
       "      <td>0.07921</td>\n",
       "      <td>0.05050</td>\n",
       "      <td>0.061159</td>\n",
       "      <td>-0.00400</td>\n",
       "      <td>0.002106</td>\n",
       "      <td>4.0</td>\n",
       "      <td>3.0</td>\n",
       "      <td>-2.0</td>\n",
       "      <td>1</td>\n",
       "    </tr>\n",
       "    <tr>\n",
       "      <th>4</th>\n",
       "      <td>0.06000</td>\n",
       "      <td>0.07921</td>\n",
       "      <td>0.05050</td>\n",
       "      <td>0.059053</td>\n",
       "      <td>0.00110</td>\n",
       "      <td>0.002901</td>\n",
       "      <td>3.0</td>\n",
       "      <td>4.0</td>\n",
       "      <td>2.0</td>\n",
       "      <td>0</td>\n",
       "    </tr>\n",
       "  </tbody>\n",
       "</table>\n",
       "</div>"
      ],
      "text/plain": [
       "   Value USD    Max 7    Min 7    Mean 7   Change  Mean Change 7  Drop 7  \\\n",
       "0    0.06262  0.08584  0.04951  0.069031  0.00808      -0.000719     3.0   \n",
       "1    0.05454  0.08584  0.05050  0.069750  0.00404       0.005049     2.0   \n",
       "2    0.05050  0.08080  0.05050  0.064701 -0.00550       0.003543     3.0   \n",
       "3    0.05600  0.07921  0.05050  0.061159 -0.00400       0.002106     4.0   \n",
       "4    0.06000  0.07921  0.05050  0.059053  0.00110       0.002901     3.0   \n",
       "\n",
       "   Up 7  Predict  Actual  \n",
       "0   4.0     -1.0       0  \n",
       "1   5.0      2.0       0  \n",
       "2   4.0     -1.0       1  \n",
       "3   3.0     -2.0       1  \n",
       "4   4.0      2.0       0  "
      ]
     },
     "execution_count": 27,
     "metadata": {},
     "output_type": "execute_result"
    }
   ],
   "source": [
    "df.drop(['Date'], inplace=True, axis=1)\n",
    "df.head()"
   ]
  },
  {
   "cell_type": "code",
   "execution_count": 48,
   "metadata": {},
   "outputs": [
    {
     "name": "stderr",
     "output_type": "stream",
     "text": [
      "/home/sam/code/envs/data/lib/python3.6/site-packages/ipykernel_launcher.py:14: FutureWarning: Method .as_matrix will be removed in a future version. Use .values instead.\n",
      "  \n"
     ]
    }
   ],
   "source": [
    "X,y = to_xy(df,\"Actual\")"
   ]
  },
  {
   "cell_type": "code",
   "execution_count": 49,
   "metadata": {},
   "outputs": [],
   "source": [
    "X_train, X_test, y_train, y_test = train_test_split(X, y, test_size=0.20, random_state=42)"
   ]
  },
  {
   "cell_type": "code",
   "execution_count": 50,
   "metadata": {},
   "outputs": [
    {
     "name": "stdout",
     "output_type": "stream",
     "text": [
      "Train on 2361 samples, validate on 591 samples\n",
      "Epoch 1/1000\n",
      " - 1s - loss: 5.2333 - val_loss: 6.2240\n",
      "Epoch 2/1000\n",
      " - 0s - loss: 6.2714 - val_loss: 5.8287\n",
      "Epoch 3/1000\n",
      " - 0s - loss: 5.4753 - val_loss: 5.1213\n",
      "Epoch 4/1000\n",
      " - 0s - loss: 5.5735 - val_loss: 5.2229\n",
      "Epoch 5/1000\n",
      " - 0s - loss: 5.4159 - val_loss: 5.8435\n",
      "Epoch 6/1000\n",
      " - 0s - loss: 5.1097 - val_loss: 5.1993\n",
      "Epoch 7/1000\n",
      " - 0s - loss: 5.1239 - val_loss: 6.1216\n",
      "Epoch 8/1000\n",
      " - 0s - loss: 4.5427 - val_loss: 5.6184\n",
      "Epoch 9/1000\n",
      " - 0s - loss: 5.7912 - val_loss: 5.3018\n",
      "Epoch 10/1000\n",
      " - 0s - loss: 5.4892 - val_loss: 5.6501\n",
      "Epoch 11/1000\n",
      " - 0s - loss: 5.5344 - val_loss: 5.0769\n",
      "Epoch 12/1000\n",
      " - 0s - loss: 3.9198 - val_loss: 5.0415\n",
      "Epoch 13/1000\n",
      " - 0s - loss: 5.3313 - val_loss: 7.0359\n",
      "Epoch 14/1000\n",
      " - 1s - loss: 5.7116 - val_loss: 0.2911\n",
      "Epoch 15/1000\n",
      " - 0s - loss: 4.6532 - val_loss: 6.1625\n",
      "Epoch 16/1000\n",
      " - 0s - loss: 6.4403 - val_loss: 1.8754\n",
      "Epoch 17/1000\n",
      " - 0s - loss: 4.4925 - val_loss: 2.2967\n",
      "Epoch 18/1000\n",
      " - 0s - loss: 4.3440 - val_loss: 5.3948\n",
      "Epoch 19/1000\n",
      " - 0s - loss: 2.6837 - val_loss: 1.5705\n",
      "Epoch 20/1000\n",
      " - 0s - loss: 5.0614 - val_loss: 5.1208\n",
      "Epoch 21/1000\n",
      " - 0s - loss: 4.5891 - val_loss: 1.2804\n",
      "Epoch 22/1000\n",
      " - 0s - loss: 5.5490 - val_loss: 5.7178\n",
      "Epoch 23/1000\n",
      " - 0s - loss: 5.1912 - val_loss: 6.9349\n",
      "Epoch 24/1000\n",
      " - 0s - loss: 5.9605 - val_loss: 3.5971\n",
      "Epoch 25/1000\n",
      " - 0s - loss: 3.6795 - val_loss: 4.1200\n",
      "Epoch 26/1000\n",
      " - 0s - loss: 4.8218 - val_loss: 5.8184\n",
      "Epoch 27/1000\n",
      " - 0s - loss: 5.2982 - val_loss: 3.7097\n",
      "Epoch 28/1000\n",
      " - 0s - loss: 5.3699 - val_loss: 5.3132\n",
      "Epoch 29/1000\n",
      " - 0s - loss: 4.9864 - val_loss: 5.0069\n",
      "Epoch 30/1000\n",
      " - 0s - loss: 5.0069 - val_loss: 5.3132\n",
      "Epoch 31/1000\n",
      " - 0s - loss: 5.1775 - val_loss: 5.1970\n",
      "Epoch 32/1000\n",
      " - 0s - loss: 4.7638 - val_loss: 3.6526\n",
      "Epoch 33/1000\n",
      " - 0s - loss: 4.2824 - val_loss: 5.4448\n",
      "Epoch 34/1000\n",
      " - 0s - loss: 3.9666 - val_loss: 1.6497\n",
      "Epoch 35/1000\n",
      " - 0s - loss: 4.2813 - val_loss: 5.3796\n",
      "Epoch 36/1000\n",
      " - 0s - loss: 5.2909 - val_loss: 5.2961\n",
      "Epoch 37/1000\n",
      " - 0s - loss: 5.2003 - val_loss: 5.2832\n",
      "Epoch 38/1000\n",
      " - 0s - loss: 5.0799 - val_loss: 5.0853\n",
      "Epoch 39/1000\n",
      " - 0s - loss: 4.9082 - val_loss: 4.7192\n",
      "Epoch 00039: early stopping\n"
     ]
    }
   ],
   "source": [
    "model = Sequential()\n",
    "model.add(Dense(80, activation='relu', input_dim=X_train.shape[1]))\n",
    "model.add(Dense(80, activation='relu'))\n",
    "model.add(Dense(80, activation='relu'))\n",
    "model.add(Dense(80, activation='relu'))\n",
    "model.add(Dense(y_train.shape[1], activation='softmax'))\n",
    "\n",
    "#model.compile(optimizer='adam', loss='categorical_crossentropy', metrics=['accuracy'])\n",
    "#model.fit(X_train, y_train, epochs=1000)\n",
    "\n",
    "model.compile(loss='categorical_crossentropy', optimizer='adam')\n",
    "monitor = EarlyStopping(monitor='val_loss', min_delta=1e-2, patience=25, verbose=1, mode='auto')\n",
    "checkpointer = ModelCheckpoint(filepath=\"best_weights.hdf5\", verbose=0, save_best_only=True) # save best model\n",
    "\n",
    "model.fit(X_train, y_train, validation_data=(X_test, y_test), callbacks=[monitor,checkpointer], verbose=2, epochs=1000)\n",
    "model.load_weights('best_weights.hdf5') # load weights from best model"
   ]
  },
  {
   "cell_type": "code",
   "execution_count": 51,
   "metadata": {},
   "outputs": [],
   "source": [
    "model.save('data/amzn-predictor-shuffled.hd5')"
   ]
  },
  {
   "cell_type": "code",
   "execution_count": 52,
   "metadata": {},
   "outputs": [],
   "source": [
    "pred = model.predict(X_test)"
   ]
  },
  {
   "cell_type": "code",
   "execution_count": 53,
   "metadata": {},
   "outputs": [
    {
     "name": "stdout",
     "output_type": "stream",
     "text": [
      "Shape: (591, 2)\n",
      "[[1.0000000e+00 7.3317275e-21]\n",
      " [1.0000000e+00 3.5655733e-21]\n",
      " [0.0000000e+00 1.0000000e+00]\n",
      " ...\n",
      " [0.0000000e+00 1.0000000e+00]\n",
      " [8.6648399e-01 1.3351606e-01]\n",
      " [2.6517687e-16 1.0000000e+00]]\n"
     ]
    }
   ],
   "source": [
    "print(\"Shape: {}\".format(pred.shape))\n",
    "print(pred)"
   ]
  },
  {
   "cell_type": "code",
   "execution_count": 54,
   "metadata": {},
   "outputs": [
    {
     "name": "stdout",
     "output_type": "stream",
     "text": [
      "Predictions: [0 0 1 1 0 0 1 0 0 0 1 1 1 1 1 0 1 1 0 1 0 0 0 0 0 1 1 0 1 0 0 0 0 1 1 0 0\n",
      " 0 1 1 1 0 0 0 0 1 1 0 0 0 0 1 0 0 1 0 0 1 1 1 1 1 1 1 0 0 1 1 1 1 1 0 1 1\n",
      " 0 1 0 1 1 1 0 0 1 1 0 0 1 1 0 0 0 0 0 0 1 0 0 0 0 0 0 1 1 1 1 0 0 0 1 1 1\n",
      " 1 1 1 1 1 0 0 0 0 1 0 0 1 0 0 1 1 0 0 1 1 0 1 0 0 1 0 0 0 0 0 0 0 0 1 1 0\n",
      " 1 0 0 0 0 1 1 1 1 0 0 0 1 1 0 1 1 1 1 0 0 0 1 0 0 1 0 1 1 1 1 0 1 0 0 0 1\n",
      " 0 0 0 1 1 1 1 1 0 0 1 0 0 0 0 1 1 1 1 1 1 0 0 0 1 0 0 1 0 0 0 1 0 0 0 1 1\n",
      " 0 1 0 0 0 0 0 1 0 0 0 0 0 1 1 1 0 0 1 1 1 0 1 0 0 0 1 1 1 1 1 1 0 1 1 0 1\n",
      " 1 0 1 1 0 0 0 1 1 1 1 1 1 0 0 1 0 1 0 0 1 0 1 1 0 1 1 0 0 0 0 0 0 1 1 0 1\n",
      " 0 1 0 1 1 1 1 0 1 1 1 0 1 1 1 1 0 1 1 0 0 1 1 0 1 1 1 0 1 1 0 0 1 1 1 0 0\n",
      " 1 1 1 1 0 0 0 1 0 0 0 1 1 0 0 1 0 1 0 0 1 1 0 1 1 1 0 1 0 1 0 0 1 0 1 0 0\n",
      " 0 1 0 1 1 1 1 0 0 0 0 0 1 1 1 1 1 1 1 0 0 0 0 1 1 1 1 0 0 1 0 1 0 1 1 0 1\n",
      " 0 1 0 0 0 0 1 1 1 1 0 0 0 1 0 0 0 1 1 1 1 0 1 1 0 1 0 0 1 1 1 0 1 1 1 0 1\n",
      " 1 1 0 0 1 0 0 0 1 1 0 1 1 0 1 1 0 1 0 1 1 0 0 1 0 0 1 1 0 0 1 0 0 0 0 0 1\n",
      " 1 0 0 0 1 0 0 1 1 0 0 1 0 1 0 1 1 1 1 0 1 0 1 1 1 1 0 1 0 0 0 1 1 1 1 0 1\n",
      " 0 0 0 0 0 1 1 1 0 1 1 0 0 1 0 1 1 1 0 1 0 0 0 0 0 0 0 0 1 1 1 0 1 0 0 0 1\n",
      " 1 0 1 1 0 0 1 1 1 0 0 0 0 0 0 1 0 1 1 0 1 1 0 0 0 0 0 1 0 1 1 0 1 1 0 1]\n",
      "Expected: [0 0 1 1 1 0 1 0 0 0 1 1 1 1 1 0 1 1 0 1 0 0 0 0 0 1 1 0 1 0 0 0 0 1 1 1 0\n",
      " 0 1 1 1 0 0 0 0 1 1 1 0 0 0 1 0 0 1 0 0 0 1 1 1 1 1 1 0 0 1 1 1 1 1 0 0 1\n",
      " 1 1 0 1 1 1 0 0 1 1 0 0 1 1 0 0 0 0 0 0 1 1 0 0 0 0 0 1 1 1 1 0 1 0 1 1 1\n",
      " 1 1 1 1 1 0 0 0 0 1 0 0 1 0 0 1 1 0 0 1 1 0 1 0 1 1 0 0 0 0 0 0 1 0 1 1 0\n",
      " 1 0 0 0 0 1 1 1 1 0 1 0 1 1 1 1 1 1 1 0 0 0 1 0 0 1 0 1 1 0 1 0 1 0 0 0 1\n",
      " 0 0 0 0 1 1 1 1 0 1 1 0 0 0 0 1 1 1 1 1 1 0 0 0 1 0 0 1 0 0 0 1 0 0 0 1 1\n",
      " 0 1 0 0 0 0 0 1 0 0 1 0 0 1 1 1 0 0 0 1 1 0 1 0 0 0 1 1 1 1 0 1 0 1 1 0 1\n",
      " 1 0 1 1 0 0 0 1 1 1 1 1 1 0 0 1 0 1 0 0 1 0 1 1 1 1 1 0 1 0 1 0 0 1 0 0 1\n",
      " 0 1 0 1 1 1 1 1 1 1 1 0 1 1 1 1 0 1 1 0 0 1 1 1 1 1 1 0 1 1 0 0 1 1 1 0 0\n",
      " 1 1 1 1 0 0 0 1 0 0 0 1 1 0 0 1 0 1 0 0 1 1 0 1 1 1 0 1 0 1 0 0 1 0 1 0 0\n",
      " 1 1 0 1 1 1 1 0 0 0 0 0 1 1 1 0 1 1 1 0 0 0 0 1 1 1 1 0 0 0 0 1 1 1 1 0 1\n",
      " 0 1 0 0 0 0 1 1 1 1 1 0 0 1 0 0 0 1 1 1 1 0 1 1 0 1 0 0 1 1 1 0 1 1 1 1 1\n",
      " 1 1 0 0 1 0 0 0 1 1 0 1 0 0 1 1 1 1 0 1 1 0 0 1 0 0 1 1 0 0 1 0 0 0 0 1 1\n",
      " 1 0 0 0 1 1 0 1 1 0 1 1 0 1 0 1 1 1 1 0 1 0 1 1 1 1 1 1 0 0 0 1 1 1 1 0 1\n",
      " 0 0 0 0 0 1 1 1 0 1 1 1 1 1 0 1 1 1 1 1 0 0 0 0 0 0 0 0 1 1 1 0 1 0 0 0 1\n",
      " 1 0 1 1 0 0 1 1 1 0 0 0 1 0 1 1 0 1 1 0 1 1 0 0 0 0 0 1 1 1 1 0 1 1 0 1]\n"
     ]
    }
   ],
   "source": [
    "predict_classes = np.argmax(pred,axis=1)\n",
    "print(\"Predictions: {}\".format(predict_classes))\n",
    "print(\"Expected: {}\".format(np.argmax(y_test, axis=1)))\n",
    "y_test_arg = np.argmax(y_test, axis=1)"
   ]
  },
  {
   "cell_type": "code",
   "execution_count": 55,
   "metadata": {},
   "outputs": [
    {
     "name": "stdout",
     "output_type": "stream",
     "text": [
      "Accuracy: 0.9289340101522843\n"
     ]
    }
   ],
   "source": [
    "correct = accuracy_score(y_test_arg,predict_classes)\n",
    "print(\"Accuracy: {}\".format(correct))"
   ]
  },
  {
   "cell_type": "code",
   "execution_count": 58,
   "metadata": {},
   "outputs": [
    {
     "name": "stderr",
     "output_type": "stream",
     "text": [
      "/home/sam/code/envs/data/lib/python3.6/site-packages/ipykernel_launcher.py:14: FutureWarning: Method .as_matrix will be removed in a future version. Use .values instead.\n",
      "  \n"
     ]
    }
   ],
   "source": [
    "X,y = to_xy(df2,\"Actual\")"
   ]
  },
  {
   "cell_type": "code",
   "execution_count": 59,
   "metadata": {},
   "outputs": [],
   "source": [
    "pred = model.predict(X)"
   ]
  },
  {
   "cell_type": "code",
   "execution_count": 60,
   "metadata": {},
   "outputs": [
    {
     "name": "stdout",
     "output_type": "stream",
     "text": [
      "Shape: (8163, 2)\n",
      "[[1.0000000e+00 0.0000000e+00]\n",
      " [1.0000000e+00 0.0000000e+00]\n",
      " [1.0000000e+00 0.0000000e+00]\n",
      " ...\n",
      " [6.6095157e-10 1.0000000e+00]\n",
      " [2.1864238e-10 1.0000000e+00]\n",
      " [1.2927927e-01 8.7072074e-01]]\n"
     ]
    }
   ],
   "source": [
    "print(\"Shape: {}\".format(pred.shape))\n",
    "print(pred)"
   ]
  },
  {
   "cell_type": "code",
   "execution_count": 61,
   "metadata": {},
   "outputs": [
    {
     "name": "stdout",
     "output_type": "stream",
     "text": [
      "Predictions: [0 0 0 ... 1 1 1]\n",
      "Expected: [0 0 1 ... 1 1 0]\n"
     ]
    }
   ],
   "source": [
    "predict_classes = np.argmax(pred,axis=1)\n",
    "print(\"Predictions: {}\".format(predict_classes))\n",
    "print(\"Expected: {}\".format(np.argmax(y, axis=1)))\n",
    "y_arg = np.argmax(y, axis=1)"
   ]
  },
  {
   "cell_type": "code",
   "execution_count": 62,
   "metadata": {},
   "outputs": [
    {
     "name": "stdout",
     "output_type": "stream",
     "text": [
      "Accuracy: 0.5978194291314468\n"
     ]
    }
   ],
   "source": [
    "correct = accuracy_score(y_arg,predict_classes)\n",
    "print(\"Accuracy: {}\".format(correct))"
   ]
  },
  {
   "cell_type": "code",
   "execution_count": 63,
   "metadata": {},
   "outputs": [],
   "source": [
    "X_train, X_test, y_train, y_test = train_test_split(X, y, test_size=0.20)"
   ]
  },
  {
   "cell_type": "code",
   "execution_count": 64,
   "metadata": {},
   "outputs": [
    {
     "data": {
      "text/html": [
       "<div>\n",
       "<style scoped>\n",
       "    .dataframe tbody tr th:only-of-type {\n",
       "        vertical-align: middle;\n",
       "    }\n",
       "\n",
       "    .dataframe tbody tr th {\n",
       "        vertical-align: top;\n",
       "    }\n",
       "\n",
       "    .dataframe thead th {\n",
       "        text-align: right;\n",
       "    }\n",
       "</style>\n",
       "<table border=\"1\" class=\"dataframe\">\n",
       "  <thead>\n",
       "    <tr style=\"text-align: right;\">\n",
       "      <th></th>\n",
       "      <th>Date</th>\n",
       "      <th>Value USD</th>\n",
       "      <th>Drop 7</th>\n",
       "      <th>Up 7</th>\n",
       "      <th>Min 7</th>\n",
       "      <th>Max 7</th>\n",
       "      <th>Mean 7</th>\n",
       "      <th>Mean Change 7</th>\n",
       "      <th>Change</th>\n",
       "      <th>Predict</th>\n",
       "      <th>Actual</th>\n",
       "    </tr>\n",
       "  </thead>\n",
       "  <tbody>\n",
       "    <tr>\n",
       "      <th>0</th>\n",
       "      <td>05/23/1997</td>\n",
       "      <td>1.500000</td>\n",
       "      <td>2.0</td>\n",
       "      <td>5.0</td>\n",
       "      <td>1.395833</td>\n",
       "      <td>1.958333</td>\n",
       "      <td>1.622024</td>\n",
       "      <td>0.053571</td>\n",
       "      <td>-0.083333</td>\n",
       "      <td>-1.0</td>\n",
       "      <td>1</td>\n",
       "    </tr>\n",
       "    <tr>\n",
       "      <th>1</th>\n",
       "      <td>05/27/1997</td>\n",
       "      <td>1.583333</td>\n",
       "      <td>2.0</td>\n",
       "      <td>5.0</td>\n",
       "      <td>1.395833</td>\n",
       "      <td>1.729167</td>\n",
       "      <td>1.568452</td>\n",
       "      <td>0.028274</td>\n",
       "      <td>0.052083</td>\n",
       "      <td>2.0</td>\n",
       "      <td>0</td>\n",
       "    </tr>\n",
       "    <tr>\n",
       "      <th>2</th>\n",
       "      <td>05/28/1997</td>\n",
       "      <td>1.531250</td>\n",
       "      <td>2.0</td>\n",
       "      <td>5.0</td>\n",
       "      <td>1.395833</td>\n",
       "      <td>1.708333</td>\n",
       "      <td>1.540178</td>\n",
       "      <td>0.029018</td>\n",
       "      <td>0.026042</td>\n",
       "      <td>2.0</td>\n",
       "      <td>0</td>\n",
       "    </tr>\n",
       "    <tr>\n",
       "      <th>3</th>\n",
       "      <td>05/29/1997</td>\n",
       "      <td>1.505208</td>\n",
       "      <td>2.0</td>\n",
       "      <td>5.0</td>\n",
       "      <td>1.395833</td>\n",
       "      <td>1.635417</td>\n",
       "      <td>1.511161</td>\n",
       "      <td>0.019345</td>\n",
       "      <td>0.005208</td>\n",
       "      <td>2.0</td>\n",
       "      <td>0</td>\n",
       "    </tr>\n",
       "    <tr>\n",
       "      <th>4</th>\n",
       "      <td>05/30/1997</td>\n",
       "      <td>1.500000</td>\n",
       "      <td>3.0</td>\n",
       "      <td>4.0</td>\n",
       "      <td>1.395833</td>\n",
       "      <td>1.583333</td>\n",
       "      <td>1.491815</td>\n",
       "      <td>-0.011905</td>\n",
       "      <td>-0.010417</td>\n",
       "      <td>-2.0</td>\n",
       "      <td>1</td>\n",
       "    </tr>\n",
       "  </tbody>\n",
       "</table>\n",
       "</div>"
      ],
      "text/plain": [
       "         Date  Value USD  Drop 7  Up 7     Min 7     Max 7    Mean 7  \\\n",
       "0  05/23/1997   1.500000     2.0   5.0  1.395833  1.958333  1.622024   \n",
       "1  05/27/1997   1.583333     2.0   5.0  1.395833  1.729167  1.568452   \n",
       "2  05/28/1997   1.531250     2.0   5.0  1.395833  1.708333  1.540178   \n",
       "3  05/29/1997   1.505208     2.0   5.0  1.395833  1.635417  1.511161   \n",
       "4  05/30/1997   1.500000     3.0   4.0  1.395833  1.583333  1.491815   \n",
       "\n",
       "   Mean Change 7    Change  Predict  Actual  \n",
       "0       0.053571 -0.083333     -1.0       1  \n",
       "1       0.028274  0.052083      2.0       0  \n",
       "2       0.029018  0.026042      2.0       0  \n",
       "3       0.019345  0.005208      2.0       0  \n",
       "4      -0.011905 -0.010417     -2.0       1  "
      ]
     },
     "execution_count": 64,
     "metadata": {},
     "output_type": "execute_result"
    }
   ],
   "source": [
    "df3 = pd.read_csv('data/AMZN-edited.csv')\n",
    "df3.head()"
   ]
  },
  {
   "cell_type": "code",
   "execution_count": 65,
   "metadata": {},
   "outputs": [],
   "source": [
    "df3.drop(['Date'], axis=1, inplace=True)"
   ]
  },
  {
   "cell_type": "code",
   "execution_count": 66,
   "metadata": {},
   "outputs": [
    {
     "name": "stderr",
     "output_type": "stream",
     "text": [
      "/home/sam/code/envs/data/lib/python3.6/site-packages/ipykernel_launcher.py:14: FutureWarning: Method .as_matrix will be removed in a future version. Use .values instead.\n",
      "  \n"
     ]
    }
   ],
   "source": [
    "X,y = to_xy(df3,\"Actual\")"
   ]
  },
  {
   "cell_type": "code",
   "execution_count": 67,
   "metadata": {},
   "outputs": [],
   "source": [
    "pred = model.predict(X)"
   ]
  },
  {
   "cell_type": "code",
   "execution_count": 68,
   "metadata": {},
   "outputs": [
    {
     "name": "stdout",
     "output_type": "stream",
     "text": [
      "Shape: (5337, 2)\n",
      "[[7.1641695e-01 2.8358299e-01]\n",
      " [9.9999988e-01 1.5703834e-07]\n",
      " [9.9999988e-01 1.7221944e-07]\n",
      " ...\n",
      " [1.0000000e+00 0.0000000e+00]\n",
      " [1.0000000e+00 0.0000000e+00]\n",
      " [1.0000000e+00 0.0000000e+00]]\n"
     ]
    }
   ],
   "source": [
    "print(\"Shape: {}\".format(pred.shape))\n",
    "print(pred)"
   ]
  },
  {
   "cell_type": "code",
   "execution_count": 69,
   "metadata": {},
   "outputs": [
    {
     "name": "stdout",
     "output_type": "stream",
     "text": [
      "Predictions: [0 0 0 ... 0 0 0]\n",
      "Expected: [1 0 0 ... 1 1 1]\n"
     ]
    }
   ],
   "source": [
    "predict_classes = np.argmax(pred,axis=1)\n",
    "print(\"Predictions: {}\".format(predict_classes))\n",
    "print(\"Expected: {}\".format(np.argmax(y, axis=1)))\n",
    "y_arg = np.argmax(y, axis=1)"
   ]
  },
  {
   "cell_type": "code",
   "execution_count": 70,
   "metadata": {},
   "outputs": [
    {
     "name": "stdout",
     "output_type": "stream",
     "text": [
      "Accuracy: 0.49278620948098184\n"
     ]
    }
   ],
   "source": [
    "correct = accuracy_score(y_arg,predict_classes)\n",
    "print(\"Accuracy: {}\".format(correct))"
   ]
  },
  {
   "cell_type": "code",
   "execution_count": null,
   "metadata": {},
   "outputs": [],
   "source": []
  }
 ],
 "metadata": {
  "kernelspec": {
   "display_name": "Python 3",
   "language": "python",
   "name": "python3"
  },
  "language_info": {
   "codemirror_mode": {
    "name": "ipython",
    "version": 3
   },
   "file_extension": ".py",
   "mimetype": "text/x-python",
   "name": "python",
   "nbconvert_exporter": "python",
   "pygments_lexer": "ipython3",
   "version": "3.6.7"
  }
 },
 "nbformat": 4,
 "nbformat_minor": 2
}
